{
 "cells": [
  {
   "cell_type": "markdown",
   "metadata": {
    "id": "bgLgjHNtgJx-"
   },
   "source": [
    "**Preprocesado del dataset**\n",
    "\n",
    "*   Angel Luis Parra Marcos\n"
   ]
  },
  {
   "cell_type": "markdown",
   "metadata": {
    "id": "8369e939"
   },
   "source": [
    "## Dataset extraído de:\n",
    "### https://www.kaggle.com/datasets/agungpambudi/property-sales-data-real-estate-trends?resource=download\n",
    "### Contiene información de venta inmobiliarias en el estado de Milwaukee(USA) desde el 2002 hasta el 2022"
   ]
  },
  {
   "cell_type": "markdown",
   "metadata": {
    "id": "tp0r_qgVg-hP"
   },
   "source": [
    "## Carga de Datos"
   ]
  },
  {
   "cell_type": "code",
   "execution_count": 1,
   "metadata": {
    "executionInfo": {
     "elapsed": 3438,
     "status": "ok",
     "timestamp": 1716304196136,
     "user": {
      "displayName": "Juan Pablo campuzano",
      "userId": "18198759458590746786"
     },
     "user_tz": -120
    },
    "id": "4a04b5d5"
   },
   "outputs": [],
   "source": [
    "import pandas as pd\n",
    "import numpy as np\n",
    "import os\n",
    "import plotnine as pn\n",
    "from plotnine import *\n",
    "import plotly.express as px\n",
    "import seaborn as sns\n",
    "import matplotlib.pyplot as plt\n",
    "from datetime import datetime"
   ]
  },
  {
   "cell_type": "code",
   "execution_count": 3,
   "metadata": {
    "executionInfo": {
     "elapsed": 628,
     "status": "ok",
     "timestamp": 1716304196760,
     "user": {
      "displayName": "Juan Pablo campuzano",
      "userId": "18198759458590746786"
     },
     "user_tz": -120
    },
    "id": "FAtvFxxGnFJT"
   },
   "outputs": [],
   "source": [
    "propiedades_2018 = pd.read_csv('2002-2018-property-sales-data.csv')\n",
    "propiedades_2019 = pd.read_csv('2019-property-sales-data.csv')\n",
    "propiedades_2020 = pd.read_csv('2020-property-sales-data.csv')\n",
    "propiedades_2021 = pd.read_csv('2021-property-sales-data.csv')\n",
    "propiedades_2022 = pd.read_csv('2022-property-sales-data.csv')"
   ]
  },
  {
   "cell_type": "markdown",
   "metadata": {
    "id": "HNfKZVjZbZ2I"
   },
   "source": [
    "## Preprocesamiento y limpieza\n"
   ]
  },
  {
   "cell_type": "markdown",
   "metadata": {
    "id": "V2SFnZy2AAVy"
   },
   "source": [
    "### Unificación columnas con misma información:\n",
    "Ya que nuestros datos están divididos en diferentes archivos que no tienen una estructura homogenea, analizamos las diferencias de las variables e intentamos unificar la información.\n",
    "\n",
    " (Ej. 'Taxkey' y 'taxkey')"
   ]
  },
  {
   "cell_type": "code",
   "execution_count": 4,
   "metadata": {
    "colab": {
     "base_uri": "https://localhost:8080/"
    },
    "executionInfo": {
     "elapsed": 7,
     "status": "ok",
     "timestamp": 1716304196760,
     "user": {
      "displayName": "Juan Pablo campuzano",
      "userId": "18198759458590746786"
     },
     "user_tz": -120
    },
    "id": "3yXBKm6_oSXs",
    "outputId": "79e292d9-ca49-4f60-f1c6-ee63c61451fa"
   },
   "outputs": [
    {
     "name": "stdout",
     "output_type": "stream",
     "text": [
      "Index(['PropType', 'Taxkey', 'Address', 'CondoProject', 'District', 'Nbhd',\n",
      "       'Style', 'Extwall', 'Stories', 'Year_Built', 'Nr_of_rms', 'Fin_sqft',\n",
      "       'Units', 'Bdrms', 'Fbath', 'Hbath', 'Lotsize', 'Sale_date',\n",
      "       'Sale_price'],\n",
      "      dtype='object') Index(['PropertyID', 'PropType', 'taxkey', 'Address', 'CondoProject',\n",
      "       'District', 'nbhd', 'Style', 'Extwall', 'Stories', 'Year_Built',\n",
      "       'Rooms', 'FinishedSqft', 'Units', 'Bdrms', 'Fbath', 'Hbath', 'Lotsize',\n",
      "       'Sale_date', 'Sale_price'],\n",
      "      dtype='object') Index(['PropertyID', 'PropType', 'taxkey', 'Address', 'CondoProject',\n",
      "       'District', 'nbhd', 'Style', 'Extwall', 'Stories', 'Year_Built',\n",
      "       'Rooms', 'FinishedSqft', 'Units', 'Bdrms', 'Fbath', 'Hbath', 'Lotsize',\n",
      "       'Sale_date', 'Sale_price'],\n",
      "      dtype='object') Index(['PropertyID', 'PropType', 'taxkey', 'Address', 'CondoProject',\n",
      "       'District', 'nbhd', 'Style', 'Extwall', 'Stories', 'Year_Built',\n",
      "       'Rooms', 'FinishedSqft', 'Units', 'Bdrms', 'Fbath', 'Hbath', 'Lotsize',\n",
      "       'Sale_date', 'Sale_price'],\n",
      "      dtype='object') Index(['PropertyID', 'PropType', 'taxkey', 'Address', 'CondoProject',\n",
      "       'District', 'nbhd', 'Style', 'Extwall', 'Stories', 'Year_Built',\n",
      "       'Rooms', 'FinishedSqft', 'Units', 'Bdrms', 'Fbath', 'Hbath', 'Lotsize',\n",
      "       'Sale_date', 'Sale_price'],\n",
      "      dtype='object')\n"
     ]
    }
   ],
   "source": [
    "print(propiedades_2018.columns, propiedades_2019.columns, propiedades_2020.columns, propiedades_2021.columns, propiedades_2022.columns)"
   ]
  },
  {
   "cell_type": "markdown",
   "metadata": {
    "id": "UbBpUIK7o2Uf"
   },
   "source": [
    "Se puede observar que en los años 2019-2022 hay una columna extra de property ID:\n",
    "1. Pasar a minusculas todas las columnas\n",
    "2. Eliminar la columna propertyid: Ya que no queremos que el modelo aprenda de identificadores únicos, además esta columna no aparece en los datos del 2002 al 2018"
   ]
  },
  {
   "cell_type": "code",
   "execution_count": 5,
   "metadata": {
    "executionInfo": {
     "elapsed": 6,
     "status": "ok",
     "timestamp": 1716304196761,
     "user": {
      "displayName": "Juan Pablo campuzano",
      "userId": "18198759458590746786"
     },
     "user_tz": -120
    },
    "id": "geu_Dy1PtVPP"
   },
   "outputs": [],
   "source": [
    "propiedades_2018.columns = propiedades_2018.columns.str.lower()\n",
    "propiedades_2019.columns = propiedades_2019.columns.str.lower()\n",
    "propiedades_2020.columns = propiedades_2020.columns.str.lower()\n",
    "propiedades_2021.columns = propiedades_2021.columns.str.lower()\n",
    "propiedades_2022.columns = propiedades_2022.columns.str.lower()\n",
    "propiedades_2019 = propiedades_2019.drop(columns=['propertyid'], errors='ignore')\n",
    "propiedades_2020 = propiedades_2020.drop(columns=['propertyid'], errors='ignore')\n",
    "propiedades_2021 = propiedades_2021.drop(columns=['propertyid'], errors='ignore')\n",
    "propiedades_2022 = propiedades_2022.drop(columns=['propertyid'], errors='ignore')"
   ]
  },
  {
   "cell_type": "code",
   "execution_count": 6,
   "metadata": {
    "executionInfo": {
     "elapsed": 5,
     "status": "ok",
     "timestamp": 1716304196761,
     "user": {
      "displayName": "Juan Pablo campuzano",
      "userId": "18198759458590746786"
     },
     "user_tz": -120
    },
    "id": "9G1o4jK4RteO"
   },
   "outputs": [],
   "source": [
    "propiedades_2018.rename(columns={'nr_of_rms': 'rooms'}, inplace=True)\n",
    "propiedades_2018.rename(columns={'fin_sqft': 'finishedsqft'}, inplace=True)\n",
    "propiedades_2018.rename(columns={'fin_sqft': 'finishedsqft'}, inplace=True)"
   ]
  },
  {
   "cell_type": "code",
   "execution_count": 7,
   "metadata": {
    "executionInfo": {
     "elapsed": 372,
     "status": "ok",
     "timestamp": 1716304197128,
     "user": {
      "displayName": "Juan Pablo campuzano",
      "userId": "18198759458590746786"
     },
     "user_tz": -120
    },
    "id": "XO9IKHU6TOnw"
   },
   "outputs": [],
   "source": [
    "# Concatenamos\n",
    "propiedades = pd.concat([propiedades_2018, propiedades_2019, propiedades_2020, propiedades_2021, propiedades_2022], ignore_index=True)"
   ]
  },
  {
   "cell_type": "code",
   "execution_count": 8,
   "metadata": {
    "colab": {
     "base_uri": "https://localhost:8080/"
    },
    "executionInfo": {
     "elapsed": 8,
     "status": "ok",
     "timestamp": 1716304197128,
     "user": {
      "displayName": "Juan Pablo campuzano",
      "userId": "18198759458590746786"
     },
     "user_tz": -120
    },
    "id": "5zJ-AkUqZ0eF",
    "outputId": "6d35c6d0-9b65-4067-b6cd-4aa06cd21fae"
   },
   "outputs": [
    {
     "data": {
      "text/plain": [
       "60743"
      ]
     },
     "execution_count": 8,
     "metadata": {},
     "output_type": "execute_result"
    }
   ],
   "source": [
    "propiedades.shape[0]\n",
    "# Hay un total de 60743 filas"
   ]
  },
  {
   "cell_type": "code",
   "execution_count": 9,
   "metadata": {
    "colab": {
     "base_uri": "https://localhost:8080/"
    },
    "executionInfo": {
     "elapsed": 7,
     "status": "ok",
     "timestamp": 1716304197129,
     "user": {
      "displayName": "Juan Pablo campuzano",
      "userId": "18198759458590746786"
     },
     "user_tz": -120
    },
    "id": "QItQKFoJ_2TJ",
    "outputId": "317e1280-8857-4da6-fdc3-88c46342a151"
   },
   "outputs": [
    {
     "data": {
      "text/plain": [
       "Index(['proptype', 'taxkey', 'address', 'condoproject', 'district', 'nbhd',\n",
       "       'style', 'extwall', 'stories', 'year_built', 'rooms', 'finishedsqft',\n",
       "       'units', 'bdrms', 'fbath', 'hbath', 'lotsize', 'sale_date',\n",
       "       'sale_price'],\n",
       "      dtype='object')"
      ]
     },
     "execution_count": 9,
     "metadata": {},
     "output_type": "execute_result"
    }
   ],
   "source": [
    "#Revisamos que no hayan columnas duplicadas\n",
    "propiedades.columns"
   ]
  },
  {
   "cell_type": "code",
   "execution_count": 10,
   "metadata": {
    "colab": {
     "base_uri": "https://localhost:8080/",
     "height": 451
    },
    "executionInfo": {
     "elapsed": 861,
     "status": "ok",
     "timestamp": 1716304197986,
     "user": {
      "displayName": "Juan Pablo campuzano",
      "userId": "18198759458590746786"
     },
     "user_tz": -120
    },
    "id": "Gxe_ifkV1Hh2",
    "outputId": "976af944-fa1c-4f29-dcae-21c29286b404"
   },
   "outputs": [
    {
     "data": {
      "text/html": [
       "<div>\n",
       "<style scoped>\n",
       "    .dataframe tbody tr th:only-of-type {\n",
       "        vertical-align: middle;\n",
       "    }\n",
       "\n",
       "    .dataframe tbody tr th {\n",
       "        vertical-align: top;\n",
       "    }\n",
       "\n",
       "    .dataframe thead th {\n",
       "        text-align: right;\n",
       "    }\n",
       "</style>\n",
       "<table border=\"1\" class=\"dataframe\">\n",
       "  <thead>\n",
       "    <tr style=\"text-align: right;\">\n",
       "      <th></th>\n",
       "      <th>proptype</th>\n",
       "      <th>taxkey</th>\n",
       "      <th>address</th>\n",
       "      <th>condoproject</th>\n",
       "      <th>district</th>\n",
       "      <th>nbhd</th>\n",
       "      <th>style</th>\n",
       "      <th>extwall</th>\n",
       "      <th>stories</th>\n",
       "      <th>year_built</th>\n",
       "      <th>rooms</th>\n",
       "      <th>finishedsqft</th>\n",
       "      <th>units</th>\n",
       "      <th>bdrms</th>\n",
       "      <th>fbath</th>\n",
       "      <th>hbath</th>\n",
       "      <th>lotsize</th>\n",
       "      <th>sale_date</th>\n",
       "      <th>sale_price</th>\n",
       "    </tr>\n",
       "  </thead>\n",
       "  <tbody>\n",
       "    <tr>\n",
       "      <th>0</th>\n",
       "      <td>Commercial</td>\n",
       "      <td>3.230461e+09</td>\n",
       "      <td>2628 N 6TH ST</td>\n",
       "      <td>NaN</td>\n",
       "      <td>6.0</td>\n",
       "      <td>6258.0</td>\n",
       "      <td>Commercial Exempt</td>\n",
       "      <td>NaN</td>\n",
       "      <td>2.0</td>\n",
       "      <td>1880.0</td>\n",
       "      <td>0.0</td>\n",
       "      <td>1840</td>\n",
       "      <td>1.0</td>\n",
       "      <td>0.0</td>\n",
       "      <td>0.0</td>\n",
       "      <td>0.0</td>\n",
       "      <td>12750</td>\n",
       "      <td>2002-01</td>\n",
       "      <td>15900</td>\n",
       "    </tr>\n",
       "    <tr>\n",
       "      <th>1</th>\n",
       "      <td>Commercial</td>\n",
       "      <td>3.590192e+09</td>\n",
       "      <td>1363 N PROSPECT AV</td>\n",
       "      <td>NaN</td>\n",
       "      <td>3.0</td>\n",
       "      <td>6262.0</td>\n",
       "      <td>Mansions With Commercial Usage</td>\n",
       "      <td>NaN</td>\n",
       "      <td>2.0</td>\n",
       "      <td>1876.0</td>\n",
       "      <td>0.0</td>\n",
       "      <td>6377</td>\n",
       "      <td>1.0</td>\n",
       "      <td>0.0</td>\n",
       "      <td>0.0</td>\n",
       "      <td>0.0</td>\n",
       "      <td>11840</td>\n",
       "      <td>2002-01</td>\n",
       "      <td>850000</td>\n",
       "    </tr>\n",
       "    <tr>\n",
       "      <th>2</th>\n",
       "      <td>Commercial</td>\n",
       "      <td>4.161194e+09</td>\n",
       "      <td>617 S 94TH ST</td>\n",
       "      <td>NaN</td>\n",
       "      <td>10.0</td>\n",
       "      <td>6272.0</td>\n",
       "      <td>Service Building</td>\n",
       "      <td>NaN</td>\n",
       "      <td>1.0</td>\n",
       "      <td>1954.0</td>\n",
       "      <td>0.0</td>\n",
       "      <td>5022</td>\n",
       "      <td>1.0</td>\n",
       "      <td>0.0</td>\n",
       "      <td>0.0</td>\n",
       "      <td>0.0</td>\n",
       "      <td>9700</td>\n",
       "      <td>2002-01</td>\n",
       "      <td>119000</td>\n",
       "    </tr>\n",
       "    <tr>\n",
       "      <th>3</th>\n",
       "      <td>Commercial</td>\n",
       "      <td>1.719836e+09</td>\n",
       "      <td>3624 W SILVER SPRING DR</td>\n",
       "      <td>NaN</td>\n",
       "      <td>1.0</td>\n",
       "      <td>6218.0</td>\n",
       "      <td>Store Bldg - Multi Story (Store &amp; Apt, Store &amp; O</td>\n",
       "      <td>NaN</td>\n",
       "      <td>2.0</td>\n",
       "      <td>1955.0</td>\n",
       "      <td>0.0</td>\n",
       "      <td>6420</td>\n",
       "      <td>1.0</td>\n",
       "      <td>0.0</td>\n",
       "      <td>0.0</td>\n",
       "      <td>0.0</td>\n",
       "      <td>8792</td>\n",
       "      <td>2002-01</td>\n",
       "      <td>210000</td>\n",
       "    </tr>\n",
       "    <tr>\n",
       "      <th>4</th>\n",
       "      <td>Commercial</td>\n",
       "      <td>3.480290e+09</td>\n",
       "      <td>3830 W LISBON AV</td>\n",
       "      <td>NaN</td>\n",
       "      <td>15.0</td>\n",
       "      <td>6254.0</td>\n",
       "      <td>Store Bldg - Multi Story (Store &amp; Apt, Store &amp; O</td>\n",
       "      <td>NaN</td>\n",
       "      <td>2.0</td>\n",
       "      <td>1909.0</td>\n",
       "      <td>0.0</td>\n",
       "      <td>5956</td>\n",
       "      <td>1.0</td>\n",
       "      <td>0.0</td>\n",
       "      <td>0.0</td>\n",
       "      <td>0.0</td>\n",
       "      <td>4840</td>\n",
       "      <td>2002-01</td>\n",
       "      <td>48500</td>\n",
       "    </tr>\n",
       "  </tbody>\n",
       "</table>\n",
       "</div>"
      ],
      "text/plain": [
       "     proptype        taxkey                  address condoproject  district  \\\n",
       "0  Commercial  3.230461e+09            2628 N 6TH ST          NaN       6.0   \n",
       "1  Commercial  3.590192e+09       1363 N PROSPECT AV          NaN       3.0   \n",
       "2  Commercial  4.161194e+09            617 S 94TH ST          NaN      10.0   \n",
       "3  Commercial  1.719836e+09  3624 W SILVER SPRING DR          NaN       1.0   \n",
       "4  Commercial  3.480290e+09         3830 W LISBON AV          NaN      15.0   \n",
       "\n",
       "     nbhd                                             style extwall  stories  \\\n",
       "0  6258.0                                 Commercial Exempt     NaN      2.0   \n",
       "1  6262.0                    Mansions With Commercial Usage     NaN      2.0   \n",
       "2  6272.0                                  Service Building     NaN      1.0   \n",
       "3  6218.0  Store Bldg - Multi Story (Store & Apt, Store & O     NaN      2.0   \n",
       "4  6254.0  Store Bldg - Multi Story (Store & Apt, Store & O     NaN      2.0   \n",
       "\n",
       "   year_built  rooms finishedsqft  units  bdrms  fbath  hbath lotsize  \\\n",
       "0      1880.0    0.0         1840    1.0    0.0    0.0    0.0   12750   \n",
       "1      1876.0    0.0         6377    1.0    0.0    0.0    0.0   11840   \n",
       "2      1954.0    0.0         5022    1.0    0.0    0.0    0.0    9700   \n",
       "3      1955.0    0.0         6420    1.0    0.0    0.0    0.0    8792   \n",
       "4      1909.0    0.0         5956    1.0    0.0    0.0    0.0    4840   \n",
       "\n",
       "  sale_date sale_price  \n",
       "0   2002-01      15900  \n",
       "1   2002-01     850000  \n",
       "2   2002-01     119000  \n",
       "3   2002-01     210000  \n",
       "4   2002-01      48500  "
      ]
     },
     "execution_count": 10,
     "metadata": {},
     "output_type": "execute_result"
    }
   ],
   "source": [
    "# Hacemos una inspeccion de las primeras filas\n",
    "propiedades.head(5)"
   ]
  },
  {
   "cell_type": "code",
   "execution_count": 11,
   "metadata": {
    "colab": {
     "base_uri": "https://localhost:8080/",
     "height": 912
    },
    "executionInfo": {
     "elapsed": 10,
     "status": "ok",
     "timestamp": 1716304197987,
     "user": {
      "displayName": "Juan Pablo campuzano",
      "userId": "18198759458590746786"
     },
     "user_tz": -120
    },
    "id": "LX3-3H9MXOZx",
    "outputId": "8bf2b9bf-5ea9-406a-815a-7edaf5c2fb13"
   },
   "outputs": [
    {
     "data": {
      "text/html": [
       "<div>\n",
       "<style scoped>\n",
       "    .dataframe tbody tr th:only-of-type {\n",
       "        vertical-align: middle;\n",
       "    }\n",
       "\n",
       "    .dataframe tbody tr th {\n",
       "        vertical-align: top;\n",
       "    }\n",
       "\n",
       "    .dataframe thead th {\n",
       "        text-align: right;\n",
       "    }\n",
       "</style>\n",
       "<table border=\"1\" class=\"dataframe\">\n",
       "  <thead>\n",
       "    <tr style=\"text-align: right;\">\n",
       "      <th></th>\n",
       "      <th>proptype</th>\n",
       "      <th>taxkey</th>\n",
       "      <th>address</th>\n",
       "      <th>condoproject</th>\n",
       "      <th>district</th>\n",
       "      <th>nbhd</th>\n",
       "      <th>style</th>\n",
       "      <th>extwall</th>\n",
       "      <th>stories</th>\n",
       "      <th>year_built</th>\n",
       "      <th>rooms</th>\n",
       "      <th>finishedsqft</th>\n",
       "      <th>units</th>\n",
       "      <th>bdrms</th>\n",
       "      <th>fbath</th>\n",
       "      <th>hbath</th>\n",
       "      <th>lotsize</th>\n",
       "      <th>sale_date</th>\n",
       "      <th>sale_price</th>\n",
       "    </tr>\n",
       "  </thead>\n",
       "  <tbody>\n",
       "    <tr>\n",
       "      <th>0</th>\n",
       "      <td>Manufacturing</td>\n",
       "      <td>30131000</td>\n",
       "      <td>9434-9446 N 107TH ST</td>\n",
       "      <td>NaN</td>\n",
       "      <td>9</td>\n",
       "      <td>6300</td>\n",
       "      <td>Service Building</td>\n",
       "      <td>Concrete Block</td>\n",
       "      <td>1.0</td>\n",
       "      <td>1978.0</td>\n",
       "      <td>NaN</td>\n",
       "      <td>20600.0</td>\n",
       "      <td>6</td>\n",
       "      <td>NaN</td>\n",
       "      <td>0</td>\n",
       "      <td>0</td>\n",
       "      <td>0</td>\n",
       "      <td>2022-04-01</td>\n",
       "      <td>950000.0</td>\n",
       "    </tr>\n",
       "    <tr>\n",
       "      <th>1</th>\n",
       "      <td>Commercial</td>\n",
       "      <td>30152000</td>\n",
       "      <td>9306-9316 N 107TH ST</td>\n",
       "      <td>NaN</td>\n",
       "      <td>9</td>\n",
       "      <td>6202</td>\n",
       "      <td>Office Building - 1 Story</td>\n",
       "      <td>Brick</td>\n",
       "      <td>1.0</td>\n",
       "      <td>1982.0</td>\n",
       "      <td>NaN</td>\n",
       "      <td>9688.0</td>\n",
       "      <td>23</td>\n",
       "      <td>NaN</td>\n",
       "      <td>0</td>\n",
       "      <td>0</td>\n",
       "      <td>35719</td>\n",
       "      <td>2022-10-07</td>\n",
       "      <td>385000.0</td>\n",
       "    </tr>\n",
       "    <tr>\n",
       "      <th>2</th>\n",
       "      <td>Residential</td>\n",
       "      <td>49980110</td>\n",
       "      <td>9327 N SWAN RD</td>\n",
       "      <td>NaN</td>\n",
       "      <td>9</td>\n",
       "      <td>40</td>\n",
       "      <td>NaN</td>\n",
       "      <td>NaN</td>\n",
       "      <td>NaN</td>\n",
       "      <td>NaN</td>\n",
       "      <td>NaN</td>\n",
       "      <td>NaN</td>\n",
       "      <td>0</td>\n",
       "      <td>NaN</td>\n",
       "      <td>0</td>\n",
       "      <td>0</td>\n",
       "      <td>1341648</td>\n",
       "      <td>2022-01-07</td>\n",
       "      <td>800000.0</td>\n",
       "    </tr>\n",
       "    <tr>\n",
       "      <th>3</th>\n",
       "      <td>Residential</td>\n",
       "      <td>49993200</td>\n",
       "      <td>9411 W COUNTY LINE RD</td>\n",
       "      <td>NaN</td>\n",
       "      <td>9</td>\n",
       "      <td>40</td>\n",
       "      <td>Ranch</td>\n",
       "      <td>Aluminum/Vinyl</td>\n",
       "      <td>1.0</td>\n",
       "      <td>1959.0</td>\n",
       "      <td>6.0</td>\n",
       "      <td>1334.0</td>\n",
       "      <td>1</td>\n",
       "      <td>3.0</td>\n",
       "      <td>1</td>\n",
       "      <td>1</td>\n",
       "      <td>83200</td>\n",
       "      <td>2022-08-09</td>\n",
       "      <td>280000.0</td>\n",
       "    </tr>\n",
       "    <tr>\n",
       "      <th>4</th>\n",
       "      <td>Residential</td>\n",
       "      <td>50042000</td>\n",
       "      <td>9322 N JOYCE AV</td>\n",
       "      <td>NaN</td>\n",
       "      <td>9</td>\n",
       "      <td>40</td>\n",
       "      <td>Ranch</td>\n",
       "      <td>Aluminum/Vinyl</td>\n",
       "      <td>1.0</td>\n",
       "      <td>1980.0</td>\n",
       "      <td>10.0</td>\n",
       "      <td>1006.0</td>\n",
       "      <td>1</td>\n",
       "      <td>6.0</td>\n",
       "      <td>1</td>\n",
       "      <td>0</td>\n",
       "      <td>8303</td>\n",
       "      <td>2022-05-23</td>\n",
       "      <td>233100.0</td>\n",
       "    </tr>\n",
       "    <tr>\n",
       "      <th>...</th>\n",
       "      <td>...</td>\n",
       "      <td>...</td>\n",
       "      <td>...</td>\n",
       "      <td>...</td>\n",
       "      <td>...</td>\n",
       "      <td>...</td>\n",
       "      <td>...</td>\n",
       "      <td>...</td>\n",
       "      <td>...</td>\n",
       "      <td>...</td>\n",
       "      <td>...</td>\n",
       "      <td>...</td>\n",
       "      <td>...</td>\n",
       "      <td>...</td>\n",
       "      <td>...</td>\n",
       "      <td>...</td>\n",
       "      <td>...</td>\n",
       "      <td>...</td>\n",
       "      <td>...</td>\n",
       "    </tr>\n",
       "    <tr>\n",
       "      <th>7141</th>\n",
       "      <td>Condominium</td>\n",
       "      <td>7160339000</td>\n",
       "      <td>1912 W SALEM ST</td>\n",
       "      <td>COLLEGE HEIGHTS</td>\n",
       "      <td>13</td>\n",
       "      <td>5360</td>\n",
       "      <td>Low Rise 1-3 Stories</td>\n",
       "      <td>NaN</td>\n",
       "      <td>2.0</td>\n",
       "      <td>1974.0</td>\n",
       "      <td>10.0</td>\n",
       "      <td>1100.0</td>\n",
       "      <td>1</td>\n",
       "      <td>4.0</td>\n",
       "      <td>1</td>\n",
       "      <td>1</td>\n",
       "      <td>1</td>\n",
       "      <td>2022-03-11</td>\n",
       "      <td>125900.0</td>\n",
       "    </tr>\n",
       "    <tr>\n",
       "      <th>7142</th>\n",
       "      <td>Condominium</td>\n",
       "      <td>7160351000</td>\n",
       "      <td>6316 S 20TH ST</td>\n",
       "      <td>COLLEGE HEIGHTS</td>\n",
       "      <td>13</td>\n",
       "      <td>5360</td>\n",
       "      <td>Low Rise 1-3 Stories</td>\n",
       "      <td>NaN</td>\n",
       "      <td>1.0</td>\n",
       "      <td>1974.0</td>\n",
       "      <td>5.0</td>\n",
       "      <td>1379.0</td>\n",
       "      <td>1</td>\n",
       "      <td>2.0</td>\n",
       "      <td>1</td>\n",
       "      <td>1</td>\n",
       "      <td>1</td>\n",
       "      <td>2022-10-28</td>\n",
       "      <td>150000.0</td>\n",
       "    </tr>\n",
       "    <tr>\n",
       "      <th>7143</th>\n",
       "      <td>Condominium</td>\n",
       "      <td>7160365000</td>\n",
       "      <td>6376 S 20TH ST</td>\n",
       "      <td>COLLEGE HEIGHTS</td>\n",
       "      <td>13</td>\n",
       "      <td>5360</td>\n",
       "      <td>Low Rise 1-3 Stories</td>\n",
       "      <td>NaN</td>\n",
       "      <td>2.0</td>\n",
       "      <td>1974.0</td>\n",
       "      <td>10.0</td>\n",
       "      <td>1100.0</td>\n",
       "      <td>1</td>\n",
       "      <td>4.0</td>\n",
       "      <td>1</td>\n",
       "      <td>1</td>\n",
       "      <td>1</td>\n",
       "      <td>2022-03-15</td>\n",
       "      <td>130000.0</td>\n",
       "    </tr>\n",
       "    <tr>\n",
       "      <th>7144</th>\n",
       "      <td>Condominium</td>\n",
       "      <td>7160366000</td>\n",
       "      <td>6378 S 20TH ST</td>\n",
       "      <td>COLLEGE HEIGHTS</td>\n",
       "      <td>13</td>\n",
       "      <td>5360</td>\n",
       "      <td>Low Rise 1-3 Stories</td>\n",
       "      <td>NaN</td>\n",
       "      <td>2.0</td>\n",
       "      <td>1974.0</td>\n",
       "      <td>5.0</td>\n",
       "      <td>1100.0</td>\n",
       "      <td>1</td>\n",
       "      <td>2.0</td>\n",
       "      <td>1</td>\n",
       "      <td>1</td>\n",
       "      <td>1</td>\n",
       "      <td>2022-12-30</td>\n",
       "      <td>123000.0</td>\n",
       "    </tr>\n",
       "    <tr>\n",
       "      <th>7145</th>\n",
       "      <td>Condominium</td>\n",
       "      <td>7160375000</td>\n",
       "      <td>6354 S 20TH ST</td>\n",
       "      <td>COLLEGE HEIGHTS</td>\n",
       "      <td>13</td>\n",
       "      <td>5360</td>\n",
       "      <td>Low Rise 1-3 Stories</td>\n",
       "      <td>NaN</td>\n",
       "      <td>1.0</td>\n",
       "      <td>1974.0</td>\n",
       "      <td>5.0</td>\n",
       "      <td>1141.0</td>\n",
       "      <td>1</td>\n",
       "      <td>2.0</td>\n",
       "      <td>1</td>\n",
       "      <td>1</td>\n",
       "      <td>1</td>\n",
       "      <td>2022-07-08</td>\n",
       "      <td>157500.0</td>\n",
       "    </tr>\n",
       "  </tbody>\n",
       "</table>\n",
       "<p>7146 rows × 19 columns</p>\n",
       "</div>"
      ],
      "text/plain": [
       "           proptype      taxkey                address     condoproject  \\\n",
       "0     Manufacturing    30131000   9434-9446 N 107TH ST              NaN   \n",
       "1        Commercial    30152000   9306-9316 N 107TH ST              NaN   \n",
       "2       Residential    49980110         9327 N SWAN RD              NaN   \n",
       "3       Residential    49993200  9411 W COUNTY LINE RD              NaN   \n",
       "4       Residential    50042000        9322 N JOYCE AV              NaN   \n",
       "...             ...         ...                    ...              ...   \n",
       "7141    Condominium  7160339000        1912 W SALEM ST  COLLEGE HEIGHTS   \n",
       "7142    Condominium  7160351000         6316 S 20TH ST  COLLEGE HEIGHTS   \n",
       "7143    Condominium  7160365000         6376 S 20TH ST  COLLEGE HEIGHTS   \n",
       "7144    Condominium  7160366000         6378 S 20TH ST  COLLEGE HEIGHTS   \n",
       "7145    Condominium  7160375000         6354 S 20TH ST  COLLEGE HEIGHTS   \n",
       "\n",
       "      district  nbhd                      style         extwall  stories  \\\n",
       "0            9  6300           Service Building  Concrete Block      1.0   \n",
       "1            9  6202  Office Building - 1 Story           Brick      1.0   \n",
       "2            9    40                        NaN             NaN      NaN   \n",
       "3            9    40                      Ranch  Aluminum/Vinyl      1.0   \n",
       "4            9    40                      Ranch  Aluminum/Vinyl      1.0   \n",
       "...        ...   ...                        ...             ...      ...   \n",
       "7141        13  5360       Low Rise 1-3 Stories             NaN      2.0   \n",
       "7142        13  5360       Low Rise 1-3 Stories             NaN      1.0   \n",
       "7143        13  5360       Low Rise 1-3 Stories             NaN      2.0   \n",
       "7144        13  5360       Low Rise 1-3 Stories             NaN      2.0   \n",
       "7145        13  5360       Low Rise 1-3 Stories             NaN      1.0   \n",
       "\n",
       "      year_built  rooms  finishedsqft  units  bdrms  fbath  hbath  lotsize  \\\n",
       "0         1978.0    NaN       20600.0      6    NaN      0      0        0   \n",
       "1         1982.0    NaN        9688.0     23    NaN      0      0    35719   \n",
       "2            NaN    NaN           NaN      0    NaN      0      0  1341648   \n",
       "3         1959.0    6.0        1334.0      1    3.0      1      1    83200   \n",
       "4         1980.0   10.0        1006.0      1    6.0      1      0     8303   \n",
       "...          ...    ...           ...    ...    ...    ...    ...      ...   \n",
       "7141      1974.0   10.0        1100.0      1    4.0      1      1        1   \n",
       "7142      1974.0    5.0        1379.0      1    2.0      1      1        1   \n",
       "7143      1974.0   10.0        1100.0      1    4.0      1      1        1   \n",
       "7144      1974.0    5.0        1100.0      1    2.0      1      1        1   \n",
       "7145      1974.0    5.0        1141.0      1    2.0      1      1        1   \n",
       "\n",
       "       sale_date  sale_price  \n",
       "0     2022-04-01    950000.0  \n",
       "1     2022-10-07    385000.0  \n",
       "2     2022-01-07    800000.0  \n",
       "3     2022-08-09    280000.0  \n",
       "4     2022-05-23    233100.0  \n",
       "...          ...         ...  \n",
       "7141  2022-03-11    125900.0  \n",
       "7142  2022-10-28    150000.0  \n",
       "7143  2022-03-15    130000.0  \n",
       "7144  2022-12-30    123000.0  \n",
       "7145  2022-07-08    157500.0  \n",
       "\n",
       "[7146 rows x 19 columns]"
      ]
     },
     "execution_count": 11,
     "metadata": {},
     "output_type": "execute_result"
    }
   ],
   "source": [
    "propiedades_2022"
   ]
  },
  {
   "cell_type": "markdown",
   "metadata": {
    "id": "OTO69cdlhpft"
   },
   "source": [
    "## Revisión y corrección de tipos\n",
    "A Continuación presentamos la información de la fuente del dataset acerca de la descripcion de variables y tipos\n",
    "\n",
    "| Field Name       | Description                                                   | Type   |\n",
    "|------------------|---------------------------------------------------------------|--------|\n",
    "| PropertyID       | A unique identifier for each property.                        | text   |\n",
    "| PropType         | The type of property (e.g., Commercial or Residential).       | text   |\n",
    "| taxkey           | The tax key associated with the property.                     | text   |\n",
    "| Address          | The address of the property.                                  | text   |\n",
    "| CondoProject     | Information about whether the property is part of a condominium project (NaN indicates missing data). | text |\n",
    "| District         | The district number for the property.                         | text   |\n",
    "| nbhd             | The neighborhood number for the property.                     | text   |\n",
    "| Style            | The architectural style of the property.                      | text   |\n",
    "| Extwall          | The type of exterior wall material used.                      | text   |\n",
    "| Stories          | The number of stories in the building.                        | text   |\n",
    "| Year_Built       | The year the property was built.                              | text   |\n",
    "| Rooms            | The number of rooms in the property.                          | text   |\n",
    "| FinishedSqft     | The total square footage of finished space in the property.   | text   |\n",
    "| Units            | The number of units in the property (e.g., apartments in a multifamily building). | text |\n",
    "| Bdrms            | The number of bedrooms in the property.                       | text   |\n",
    "| Fbath            | The number of full bathrooms in the property.                 | text   |\n",
    "| Hbath            | The number of half bathrooms in the property.                 | text   |\n",
    "| Lotsize          | The size of the lot associated with the property.              | text   |\n",
    "| Sale_date        | The date when the property was sold.                           | text   |\n",
    "| Sale_price       | The sale price of the property.                               | text   |\n",
    "\n",
    "Como podemos ver no es muy especifico acerca de los tipos a usar y la descripción de el contenido es muy generica en algunas columnas, en base a esto haremos la definición de los tipos"
   ]
  },
  {
   "cell_type": "code",
   "execution_count": 12,
   "metadata": {
    "colab": {
     "base_uri": "https://localhost:8080/"
    },
    "executionInfo": {
     "elapsed": 253,
     "status": "ok",
     "timestamp": 1716304198231,
     "user": {
      "displayName": "Juan Pablo campuzano",
      "userId": "18198759458590746786"
     },
     "user_tz": -120
    },
    "id": "mWswwGL0kbUi",
    "outputId": "d4deef13-39e9-4d96-a6ab-1b5f946ee53d"
   },
   "outputs": [
    {
     "data": {
      "text/plain": [
       "proptype         object\n",
       "taxkey          float64\n",
       "address          object\n",
       "condoproject     object\n",
       "district        float64\n",
       "nbhd            float64\n",
       "style            object\n",
       "extwall          object\n",
       "stories         float64\n",
       "year_built      float64\n",
       "rooms           float64\n",
       "finishedsqft     object\n",
       "units           float64\n",
       "bdrms           float64\n",
       "fbath           float64\n",
       "hbath           float64\n",
       "lotsize          object\n",
       "sale_date        object\n",
       "sale_price       object\n",
       "dtype: object"
      ]
     },
     "execution_count": 12,
     "metadata": {},
     "output_type": "execute_result"
    }
   ],
   "source": [
    "propiedades.dtypes"
   ]
  },
  {
   "cell_type": "markdown",
   "metadata": {
    "id": "Qc6zLzRMQ4Uu"
   },
   "source": [
    "### Sale_date:\n",
    "Se evidencian diferentes formatos de fechas en los diferentes archivos."
   ]
  },
  {
   "cell_type": "code",
   "execution_count": 13,
   "metadata": {
    "colab": {
     "base_uri": "https://localhost:8080/"
    },
    "executionInfo": {
     "elapsed": 8,
     "status": "ok",
     "timestamp": 1716304198232,
     "user": {
      "displayName": "Juan Pablo campuzano",
      "userId": "18198759458590746786"
     },
     "user_tz": -120
    },
    "id": "oZujTgznRnw5",
    "outputId": "0b9aaac6-759e-4135-e92e-2f7ff1d6325c"
   },
   "outputs": [
    {
     "name": "stdout",
     "output_type": "stream",
     "text": [
      "2002-01\n",
      "3/11/2019\n",
      "2/13/2020\n",
      "3/31/2021\n",
      "2022-04-01\n"
     ]
    }
   ],
   "source": [
    "print(propiedades_2018['sale_date'][0])\n",
    "print(propiedades_2019['sale_date'][0])\n",
    "print(propiedades_2020['sale_date'][0])\n",
    "print(propiedades_2021['sale_date'][0])\n",
    "print(propiedades_2022['sale_date'][0])"
   ]
  },
  {
   "cell_type": "code",
   "execution_count": 14,
   "metadata": {
    "executionInfo": {
     "elapsed": 7,
     "status": "ok",
     "timestamp": 1716304198232,
     "user": {
      "displayName": "Juan Pablo campuzano",
      "userId": "18198759458590746786"
     },
     "user_tz": -120
    },
    "id": "16j_yYBTcXqS"
   },
   "outputs": [],
   "source": [
    "## Transformamos a formato fecha , usando la funcion de pandas que, nos permite inferir varios formatos y posteriormente lo pasamos a un formato unico\n",
    "propiedades['sale_date'] = pd.to_datetime(propiedades['sale_date'], format='mixed')\n",
    "propiedades['sale_date'] = pd.to_datetime(propiedades['sale_date'], format='%m/%d/%Y')\n"
   ]
  },
  {
   "cell_type": "code",
   "execution_count": 17,
   "metadata": {
    "executionInfo": {
     "elapsed": 7,
     "status": "ok",
     "timestamp": 1716304198233,
     "user": {
      "displayName": "Juan Pablo campuzano",
      "userId": "18198759458590746786"
     },
     "user_tz": -120
    },
    "id": "oNyLVAAl2HMC"
   },
   "outputs": [],
   "source": [
    "#CAMBIO DE TIPOS DE LAS VARIABLES\n",
    "propiedades['proptype'] = propiedades['proptype'].astype('category')\n",
    "propiedades['district'] = propiedades['district'].astype('category')\n",
    "propiedades['stories'] = propiedades['stories'].astype('category')\n",
    "propiedades['extwall'] = propiedades['extwall'].astype('category')\n",
    "propiedades['rooms'] = propiedades['rooms'].astype('category')\n",
    "propiedades['units'] = propiedades['units'].astype('category')\n",
    "propiedades['bdrms'] = propiedades['bdrms'].astype('category')\n",
    "propiedades['fbath'] = propiedades['fbath'].astype('category')\n",
    "propiedades['hbath'] = propiedades['hbath'].astype('category')\n",
    "propiedades['taxkey'] = propiedades['taxkey'].astype('category')"
   ]
  },
  {
   "cell_type": "code",
   "execution_count": 18,
   "metadata": {
    "executionInfo": {
     "elapsed": 290,
     "status": "ok",
     "timestamp": 1716304198517,
     "user": {
      "displayName": "Juan Pablo campuzano",
      "userId": "18198759458590746786"
     },
     "user_tz": -120
    },
    "id": "bNQgRBlDmBkX"
   },
   "outputs": [],
   "source": [
    "# No se puede pasar Sale_price directamente a numeric, ya que hay valores que contienen $, primero remplazar y luego convertir\n",
    "propiedades['sale_price'] = propiedades['sale_price'].replace('[\\$]', '', regex=True)\n",
    "propiedades['sale_price'] = propiedades['sale_price'].replace(',', '', regex=True)\n",
    "propiedades['sale_price'] = propiedades['sale_price'].astype(float)"
   ]
  },
  {
   "cell_type": "code",
   "execution_count": 19,
   "metadata": {
    "executionInfo": {
     "elapsed": 6,
     "status": "ok",
     "timestamp": 1716304198517,
     "user": {
      "displayName": "Juan Pablo campuzano",
      "userId": "18198759458590746786"
     },
     "user_tz": -120
    },
    "id": "yDa7xuE6KiWq"
   },
   "outputs": [],
   "source": [
    "propiedades['nbhd'] =propiedades['nbhd'].astype('category')"
   ]
  },
  {
   "cell_type": "code",
   "execution_count": 20,
   "metadata": {
    "executionInfo": {
     "elapsed": 261,
     "status": "ok",
     "timestamp": 1716304198774,
     "user": {
      "displayName": "Juan Pablo campuzano",
      "userId": "18198759458590746786"
     },
     "user_tz": -120
    },
    "id": "n_lLXemeKiWq"
   },
   "outputs": [],
   "source": [
    "propiedades['finishedsqft'] = propiedades['finishedsqft'].astype(str)\n",
    "propiedades['finishedsqft'] = pd.to_numeric(propiedades['finishedsqft'].str.replace(',', ''), errors='coerce')\n"
   ]
  },
  {
   "cell_type": "code",
   "execution_count": 21,
   "metadata": {
    "colab": {
     "base_uri": "https://localhost:8080/"
    },
    "executionInfo": {
     "elapsed": 4,
     "status": "ok",
     "timestamp": 1716304198774,
     "user": {
      "displayName": "Juan Pablo campuzano",
      "userId": "18198759458590746786"
     },
     "user_tz": -120
    },
    "id": "ZWaBDofNKiWq",
    "outputId": "7f288ded-24e9-45ee-ace0-e61aa8da817a"
   },
   "outputs": [
    {
     "data": {
      "text/plain": [
       "proptype              category\n",
       "taxkey                category\n",
       "address                 object\n",
       "condoproject            object\n",
       "district              category\n",
       "nbhd                  category\n",
       "style                   object\n",
       "extwall               category\n",
       "stories               category\n",
       "year_built             float64\n",
       "rooms                 category\n",
       "finishedsqft           float64\n",
       "units                 category\n",
       "bdrms                 category\n",
       "fbath                 category\n",
       "hbath                 category\n",
       "lotsize                 object\n",
       "sale_date       datetime64[ns]\n",
       "sale_price             float64\n",
       "dtype: object"
      ]
     },
     "execution_count": 21,
     "metadata": {},
     "output_type": "execute_result"
    }
   ],
   "source": [
    "propiedades.dtypes"
   ]
  },
  {
   "cell_type": "code",
   "execution_count": 23,
   "metadata": {
    "executionInfo": {
     "elapsed": 16,
     "status": "ok",
     "timestamp": 1716304199078,
     "user": {
      "displayName": "Juan Pablo campuzano",
      "userId": "18198759458590746786"
     },
     "user_tz": -120
    },
    "id": "qKhtzLCFBkJq"
   },
   "outputs": [],
   "source": [
    "propiedades['lotsize'] = propiedades['lotsize'].astype(str)\n",
    "propiedades['lotsize'] = propiedades['lotsize'].str.replace(',', '')\n"
   ]
  },
  {
   "cell_type": "code",
   "execution_count": 24,
   "metadata": {
    "colab": {
     "base_uri": "https://localhost:8080/"
    },
    "executionInfo": {
     "elapsed": 15,
     "status": "ok",
     "timestamp": 1716304199078,
     "user": {
      "displayName": "Juan Pablo campuzano",
      "userId": "18198759458590746786"
     },
     "user_tz": -120
    },
    "id": "8B-xc36-KiWr",
    "outputId": "4724911a-4119-4516-a221-9574918ee4ae"
   },
   "outputs": [
    {
     "data": {
      "text/plain": [
       "proptype           13\n",
       "taxkey              2\n",
       "address             6\n",
       "condoproject    50662\n",
       "district            4\n",
       "nbhd               59\n",
       "style              76\n",
       "extwall         13471\n",
       "stories           131\n",
       "year_built         44\n",
       "rooms            1273\n",
       "finishedsqft       77\n",
       "units               2\n",
       "bdrms            1272\n",
       "fbath             657\n",
       "hbath            4842\n",
       "lotsize             0\n",
       "sale_date           2\n",
       "sale_price         12\n",
       "dtype: int64"
      ]
     },
     "execution_count": 24,
     "metadata": {},
     "output_type": "execute_result"
    }
   ],
   "source": [
    "propiedades.isnull().sum()"
   ]
  },
  {
   "cell_type": "code",
   "execution_count": 25,
   "metadata": {
    "colab": {
     "base_uri": "https://localhost:8080/"
    },
    "executionInfo": {
     "elapsed": 13,
     "status": "ok",
     "timestamp": 1716304199078,
     "user": {
      "displayName": "Juan Pablo campuzano",
      "userId": "18198759458590746786"
     },
     "user_tz": -120
    },
    "id": "gZVmRPP7Emt3",
    "outputId": "b9e2e500-355c-419d-9b8a-ff6c448287ed"
   },
   "outputs": [
    {
     "data": {
      "text/plain": [
       "60743"
      ]
     },
     "execution_count": 25,
     "metadata": {},
     "output_type": "execute_result"
    }
   ],
   "source": [
    "propiedades.shape[0]"
   ]
  },
  {
   "cell_type": "markdown",
   "metadata": {
    "id": "UkomBV0Yl1-d"
   },
   "source": [
    "### year_built"
   ]
  },
  {
   "cell_type": "code",
   "execution_count": 26,
   "metadata": {
    "colab": {
     "base_uri": "https://localhost:8080/"
    },
    "executionInfo": {
     "elapsed": 11,
     "status": "ok",
     "timestamp": 1716304199078,
     "user": {
      "displayName": "Juan Pablo campuzano",
      "userId": "18198759458590746786"
     },
     "user_tz": -120
    },
    "id": "GnvKm-YuUjr8",
    "outputId": "300e079d-324f-4b69-b10c-871a20205fe6"
   },
   "outputs": [
    {
     "data": {
      "text/plain": [
       "array([1880., 1876., 1954., 1955., 1909., 1974., 2002., 1887., 1890.,\n",
       "       1913.,    0., 1981., 1905., 1929., 1993., 1957., 1885., 1953.,\n",
       "       1870., 1969., 1958., 1985., 1947., 1964., 1948., 1915., 1928.,\n",
       "       1924., 1990., 1989., 1946., 1941., 1926., 1923., 1984., 1949.,\n",
       "       1912., 1972., 1895., 1897., 1980., 1918., 1914., 1936., 1965.,\n",
       "       1907., 1911., 1927., 1961., 1975., 1967., 1950., 1973., 1920.,\n",
       "       1956., 1968., 1982., 1933., 1935., 1991., 1988., 1963., 1910.,\n",
       "       1925., 1995., 1986., 1922., 1952., 1945., 1916., 1891., 1906.,\n",
       "       1902., 1930., 1898., 1977., 1996., 1951., 1934., 1970., 1962.,\n",
       "       1900., 1896., 1921., 2001., 1966., 1868., 1901., 1889., 2000.,\n",
       "       1931., 1882., 1987., 1959., 1976., 2003., 1904., 1960., 1903.,\n",
       "       2005., 1994., 1940., 1888., 1884., 1937., 1938., 1899., 1979.,\n",
       "       1932., 2006., 2004., 1893., 1892., 1998., 1860., 1992., 1997.,\n",
       "       1971., 1917., 1894., 1978., 1919., 1908., 1865., 1983., 1944.,\n",
       "       2008., 2007., 1886., 1875., 1999., 1939., 1874., 1879., 2009.,\n",
       "       1942., 1877., 2013., 1943., 1854., 1883., 2010., 1850., 1873.,\n",
       "       2017., 1871., 1869., 2011., 1835., 1881., 1848., 1863., 2012.,\n",
       "        203.,  206., 1858., 1861., 1856., 2014., 1878., 2016., 1840.,\n",
       "       2015., 1857., 1872., 1866., 2018.,  910.,   nan, 2019., 1855.,\n",
       "       1867., 1862., 1864., 2020., 1836., 1844., 2022., 1843.])"
      ]
     },
     "execution_count": 26,
     "metadata": {},
     "output_type": "execute_result"
    }
   ],
   "source": [
    "propiedades['year_built'].unique()"
   ]
  },
  {
   "cell_type": "markdown",
   "metadata": {
    "id": "tNYJwwtAKiWt"
   },
   "source": [
    "Hay 638 observaciones de los años 206, 203 y 0 que estan completamente vacios.\n",
    "Si los elimino paso de tener 60.743 a 60.105\n",
    "A parte hay 44 valores de año vacios\n",
    "pasando a tener 60.061\n"
   ]
  },
  {
   "cell_type": "code",
   "execution_count": 27,
   "metadata": {
    "colab": {
     "base_uri": "https://localhost:8080/"
    },
    "executionInfo": {
     "elapsed": 8,
     "status": "ok",
     "timestamp": 1716304199078,
     "user": {
      "displayName": "Juan Pablo campuzano",
      "userId": "18198759458590746786"
     },
     "user_tz": -120
    },
    "id": "IX8ejlLOKiWt",
    "outputId": "9dbedf4a-a48a-446f-a1a0-a3a19f60e22e"
   },
   "outputs": [
    {
     "name": "stdout",
     "output_type": "stream",
     "text": [
      "Registros anomalos en año de construcción 682\n"
     ]
    }
   ],
   "source": [
    "num_anomalias_year = propiedades['year_built'].isin([206, 203, 0]).sum()\n",
    "num_missings_year = propiedades['year_built'].isnull().sum()\n",
    "print( 'Registros anomalos en año de construcción',num_anomalias_year + num_missings_year)"
   ]
  },
  {
   "cell_type": "markdown",
   "metadata": {
    "id": "RFp40l3On4ea"
   },
   "source": [
    "Considerando que el año de construcción es una variable dificilmente imputable, decidimos eliminar estas filas"
   ]
  },
  {
   "cell_type": "code",
   "execution_count": 28,
   "metadata": {
    "colab": {
     "base_uri": "https://localhost:8080/"
    },
    "executionInfo": {
     "elapsed": 236,
     "status": "ok",
     "timestamp": 1716304199308,
     "user": {
      "displayName": "Juan Pablo campuzano",
      "userId": "18198759458590746786"
     },
     "user_tz": -120
    },
    "id": "n4RCpgC3Uwze",
    "outputId": "f5c1d015-94c5-4fa2-fe44-aa28c191f6a6"
   },
   "outputs": [
    {
     "data": {
      "text/plain": [
       "60061"
      ]
     },
     "execution_count": 28,
     "metadata": {},
     "output_type": "execute_result"
    }
   ],
   "source": [
    "# Estos tres años solo contienen valores nulos y son clarosn valores atipicos en esta variable por lo que decidimos eliminarlos\n",
    "propiedades = propiedades.dropna(subset=['year_built'])\n",
    "propiedades = propiedades[~propiedades['year_built'].isin([206, 203, 0])]\n",
    "propiedades.shape[0]"
   ]
  },
  {
   "cell_type": "markdown",
   "metadata": {
    "id": "S3nhhADWe3DN"
   },
   "source": [
    "### Remoción de filas duplicadas\n"
   ]
  },
  {
   "cell_type": "markdown",
   "metadata": {
    "id": "1RvzOuv0Dvqd"
   },
   "source": [
    "99 duplicados"
   ]
  },
  {
   "cell_type": "code",
   "execution_count": 29,
   "metadata": {
    "colab": {
     "base_uri": "https://localhost:8080/"
    },
    "executionInfo": {
     "elapsed": 4,
     "status": "ok",
     "timestamp": 1716304199308,
     "user": {
      "displayName": "Juan Pablo campuzano",
      "userId": "18198759458590746786"
     },
     "user_tz": -120
    },
    "id": "B-bEysm9hKsN",
    "outputId": "532e7d2d-01e8-4fbf-96ce-b13c351f72e7"
   },
   "outputs": [
    {
     "data": {
      "text/plain": [
       "99"
      ]
     },
     "execution_count": 29,
     "metadata": {},
     "output_type": "execute_result"
    }
   ],
   "source": [
    "propiedades.duplicated().sum()"
   ]
  },
  {
   "cell_type": "code",
   "execution_count": 30,
   "metadata": {
    "colab": {
     "base_uri": "https://localhost:8080/"
    },
    "executionInfo": {
     "elapsed": 248,
     "status": "ok",
     "timestamp": 1716304199553,
     "user": {
      "displayName": "Juan Pablo campuzano",
      "userId": "18198759458590746786"
     },
     "user_tz": -120
    },
    "id": "t67ZeSHf2Iai",
    "outputId": "0c4a4859-a6ef-4c4b-ed3f-a1dd968c9538"
   },
   "outputs": [
    {
     "data": {
      "text/plain": [
       "0"
      ]
     },
     "execution_count": 30,
     "metadata": {},
     "output_type": "execute_result"
    }
   ],
   "source": [
    "propiedades = propiedades.drop_duplicates()\n",
    "propiedades.duplicated().sum()"
   ]
  },
  {
   "cell_type": "code",
   "execution_count": 31,
   "metadata": {
    "colab": {
     "base_uri": "https://localhost:8080/"
    },
    "executionInfo": {
     "elapsed": 8,
     "status": "ok",
     "timestamp": 1716304199553,
     "user": {
      "displayName": "Juan Pablo campuzano",
      "userId": "18198759458590746786"
     },
     "user_tz": -120
    },
    "id": "GRwEJOvxIpII",
    "outputId": "f023116e-37ac-4019-e685-0ba872db28db"
   },
   "outputs": [
    {
     "data": {
      "text/plain": [
       "59962"
      ]
     },
     "execution_count": 31,
     "metadata": {},
     "output_type": "execute_result"
    }
   ],
   "source": [
    "propiedades.shape[0]"
   ]
  },
  {
   "cell_type": "markdown",
   "metadata": {
    "id": "Foxe7CLlhCGB"
   },
   "source": [
    "### Busqueda y resolución NA\n",
    "\n"
   ]
  },
  {
   "cell_type": "code",
   "execution_count": 32,
   "metadata": {
    "colab": {
     "base_uri": "https://localhost:8080/"
    },
    "executionInfo": {
     "elapsed": 5,
     "status": "ok",
     "timestamp": 1716304199553,
     "user": {
      "displayName": "Juan Pablo campuzano",
      "userId": "18198759458590746786"
     },
     "user_tz": -120
    },
    "id": "6NAPgZPFmKVd",
    "outputId": "25194085-f45d-4847-b5c9-d438def07d77"
   },
   "outputs": [
    {
     "data": {
      "text/plain": [
       "proptype            9\n",
       "taxkey              0\n",
       "address             4\n",
       "condoproject    49988\n",
       "district            2\n",
       "nbhd               56\n",
       "style               6\n",
       "extwall         12775\n",
       "stories            90\n",
       "year_built          0\n",
       "rooms            1156\n",
       "finishedsqft        0\n",
       "units               0\n",
       "bdrms            1155\n",
       "fbath             586\n",
       "hbath            4769\n",
       "lotsize             0\n",
       "sale_date           0\n",
       "sale_price         10\n",
       "dtype: int64"
      ]
     },
     "execution_count": 32,
     "metadata": {},
     "output_type": "execute_result"
    }
   ],
   "source": [
    "propiedades.isnull().sum()"
   ]
  },
  {
   "cell_type": "markdown",
   "metadata": {
    "id": "INGg2WjFI_EH"
   },
   "source": [
    "Hacemos un analisis de los missing values\n",
    "Las columnas que mas nulls presentan son\n",
    "1. condoproject: decidimos eliminarla ya que es en su mayoria missing\n",
    "2. extwall: decidimos eliminarla ya que casi 1/4 del dataset es missing\n",
    "3. rooms\n",
    "4. bdrms\n",
    "5. hbath"
   ]
  },
  {
   "cell_type": "code",
   "execution_count": 33,
   "metadata": {
    "executionInfo": {
     "elapsed": 302,
     "status": "ok",
     "timestamp": 1716304199852,
     "user": {
      "displayName": "Juan Pablo campuzano",
      "userId": "18198759458590746786"
     },
     "user_tz": -120
    },
    "id": "SUcqP2m9Juks"
   },
   "outputs": [],
   "source": [
    "propiedades = propiedades.drop(['condoproject'], axis=1)"
   ]
  },
  {
   "cell_type": "code",
   "execution_count": 34,
   "metadata": {
    "executionInfo": {
     "elapsed": 39,
     "status": "ok",
     "timestamp": 1716304199853,
     "user": {
      "displayName": "Juan Pablo campuzano",
      "userId": "18198759458590746786"
     },
     "user_tz": -120
    },
    "id": "IO5KRInQJ8xa"
   },
   "outputs": [],
   "source": [
    "propiedades = propiedades.drop(['extwall'], axis=1)"
   ]
  },
  {
   "cell_type": "code",
   "execution_count": 35,
   "metadata": {
    "colab": {
     "base_uri": "https://localhost:8080/"
    },
    "executionInfo": {
     "elapsed": 38,
     "status": "ok",
     "timestamp": 1716304199853,
     "user": {
      "displayName": "Juan Pablo campuzano",
      "userId": "18198759458590746786"
     },
     "user_tz": -120
    },
    "id": "jKnYSxd7Jx45",
    "outputId": "26d21c12-6cef-47ff-e3fa-4f49f4803845"
   },
   "outputs": [
    {
     "data": {
      "text/plain": [
       "proptype           9\n",
       "taxkey             0\n",
       "address            4\n",
       "district           2\n",
       "nbhd              56\n",
       "style              6\n",
       "stories           90\n",
       "year_built         0\n",
       "rooms           1156\n",
       "finishedsqft       0\n",
       "units              0\n",
       "bdrms           1155\n",
       "fbath            586\n",
       "hbath           4769\n",
       "lotsize            0\n",
       "sale_date          0\n",
       "sale_price        10\n",
       "dtype: int64"
      ]
     },
     "execution_count": 35,
     "metadata": {},
     "output_type": "execute_result"
    }
   ],
   "source": [
    "propiedades.isnull().sum()"
   ]
  },
  {
   "cell_type": "code",
   "execution_count": 36,
   "metadata": {
    "colab": {
     "base_uri": "https://localhost:8080/"
    },
    "executionInfo": {
     "elapsed": 35,
     "status": "ok",
     "timestamp": 1716304199854,
     "user": {
      "displayName": "Juan Pablo campuzano",
      "userId": "18198759458590746786"
     },
     "user_tz": -120
    },
    "id": "1BzUFmDKKIk6",
    "outputId": "9c6ce988-b4ff-457a-d7d1-7654dd58b383"
   },
   "outputs": [
    {
     "data": {
      "text/plain": [
       "59962"
      ]
     },
     "execution_count": 36,
     "metadata": {},
     "output_type": "execute_result"
    }
   ],
   "source": [
    "propiedades.shape[0]"
   ]
  },
  {
   "cell_type": "markdown",
   "metadata": {
    "id": "Uheo4kvdKxFY"
   },
   "source": [
    "Ademas decidimos eliminar algunos missings de las variables importantes y target con pocos missings.\n"
   ]
  },
  {
   "cell_type": "code",
   "execution_count": 37,
   "metadata": {
    "executionInfo": {
     "elapsed": 31,
     "status": "ok",
     "timestamp": 1716304199854,
     "user": {
      "displayName": "Juan Pablo campuzano",
      "userId": "18198759458590746786"
     },
     "user_tz": -120
    },
    "id": "ARWfOCgnItW_"
   },
   "outputs": [],
   "source": [
    "propiedades = propiedades.dropna(subset=['proptype', 'style', 'address', 'district', 'sale_price'])"
   ]
  },
  {
   "cell_type": "code",
   "execution_count": 38,
   "metadata": {
    "colab": {
     "base_uri": "https://localhost:8080/"
    },
    "executionInfo": {
     "elapsed": 30,
     "status": "ok",
     "timestamp": 1716304199854,
     "user": {
      "displayName": "Juan Pablo campuzano",
      "userId": "18198759458590746786"
     },
     "user_tz": -120
    },
    "id": "W6vdcz0nKtMD",
    "outputId": "3c3947e7-b30a-4265-d14a-8bf6cd0dbd5b"
   },
   "outputs": [
    {
     "data": {
      "text/plain": [
       "proptype           0\n",
       "taxkey             0\n",
       "address            0\n",
       "district           0\n",
       "nbhd              56\n",
       "style              0\n",
       "stories           90\n",
       "year_built         0\n",
       "rooms           1152\n",
       "finishedsqft       0\n",
       "units              0\n",
       "bdrms           1151\n",
       "fbath            583\n",
       "hbath           4754\n",
       "lotsize            0\n",
       "sale_date          0\n",
       "sale_price         0\n",
       "dtype: int64"
      ]
     },
     "execution_count": 38,
     "metadata": {},
     "output_type": "execute_result"
    }
   ],
   "source": [
    "propiedades.isnull().sum()"
   ]
  },
  {
   "cell_type": "markdown",
   "metadata": {
    "id": "aDKvGcpzjHHZ"
   },
   "source": [
    "### Imputación, Limpieza y creación columnas auxiliares"
   ]
  },
  {
   "cell_type": "markdown",
   "metadata": {
    "id": "ZSk7eJeFyoOU"
   },
   "source": [
    "### proptype:\n",
    "Vemos que hay 7 categorias"
   ]
  },
  {
   "cell_type": "code",
   "execution_count": 39,
   "metadata": {
    "colab": {
     "base_uri": "https://localhost:8080/"
    },
    "executionInfo": {
     "elapsed": 27,
     "status": "ok",
     "timestamp": 1716304199854,
     "user": {
      "displayName": "Juan Pablo campuzano",
      "userId": "18198759458590746786"
     },
     "user_tz": -120
    },
    "id": "mFTCSscxwUUN",
    "outputId": "407bae7c-0d9a-40fc-c0c9-c8f025f76fe3"
   },
   "outputs": [
    {
     "data": {
      "text/plain": [
       "['Commercial', 'Residential', 'Lg Apartment', 'Condominium', 'Vacant Land', 'Manufacturing', 'Exempt']\n",
       "Categories (7, object): ['Commercial', 'Condominium', 'Exempt', 'Lg Apartment', 'Manufacturing', 'Residential', 'Vacant Land']"
      ]
     },
     "execution_count": 39,
     "metadata": {},
     "output_type": "execute_result"
    }
   ],
   "source": [
    "propiedades['proptype'].unique()"
   ]
  },
  {
   "cell_type": "code",
   "execution_count": 40,
   "metadata": {
    "colab": {
     "base_uri": "https://localhost:8080/"
    },
    "executionInfo": {
     "elapsed": 23,
     "status": "ok",
     "timestamp": 1716304199855,
     "user": {
      "displayName": "Juan Pablo campuzano",
      "userId": "18198759458590746786"
     },
     "user_tz": -120
    },
    "id": "iT1QMr7JxVED",
    "outputId": "312b8b2c-75ff-4eb9-bad3-53c6668c4f2c"
   },
   "outputs": [
    {
     "data": {
      "text/plain": [
       "proptype\n",
       "Residential      45506\n",
       "Condominium       9041\n",
       "Commercial        3463\n",
       "Lg Apartment      1896\n",
       "Manufacturing       14\n",
       "Vacant Land          7\n",
       "Exempt               4\n",
       "Name: count, dtype: int64"
      ]
     },
     "execution_count": 40,
     "metadata": {},
     "output_type": "execute_result"
    }
   ],
   "source": [
    "propiedades['proptype'].value_counts().head(25)"
   ]
  },
  {
   "cell_type": "markdown",
   "metadata": {
    "id": "R0vIywCAv51w"
   },
   "source": [
    "### Style\n",
    "\n",
    "Dentro de la columna style vemos que hay muchisimas categorias, pero que contienen muchas la misma informacion, ejemplo:\n",
    "\n",
    "- Apartment: 24: 2-Br ,3: 3-Br  Units\n",
    "- Apartment: 81: 1-Br  Units\n",
    "\n",
    "Trataremos de extraer esta información\n"
   ]
  },
  {
   "cell_type": "code",
   "execution_count": 41,
   "metadata": {
    "colab": {
     "base_uri": "https://localhost:8080/"
    },
    "executionInfo": {
     "elapsed": 20,
     "status": "ok",
     "timestamp": 1716304199855,
     "user": {
      "displayName": "Juan Pablo campuzano",
      "userId": "18198759458590746786"
     },
     "user_tz": -120
    },
    "id": "LSWkY6q32Jof",
    "outputId": "1478aa3a-da0f-4a62-e2a0-de378b60db02"
   },
   "outputs": [
    {
     "data": {
      "text/plain": [
       "59931"
      ]
     },
     "execution_count": 41,
     "metadata": {},
     "output_type": "execute_result"
    }
   ],
   "source": [
    "len(propiedades)"
   ]
  },
  {
   "cell_type": "code",
   "execution_count": 42,
   "metadata": {
    "colab": {
     "base_uri": "https://localhost:8080/"
    },
    "executionInfo": {
     "elapsed": 16,
     "status": "ok",
     "timestamp": 1716304199855,
     "user": {
      "displayName": "Juan Pablo campuzano",
      "userId": "18198759458590746786"
     },
     "user_tz": -120
    },
    "id": "2e-R78Oxti3p",
    "outputId": "4e397267-51c6-4a75-f153-408ebedb1a84"
   },
   "outputs": [
    {
     "data": {
      "text/plain": [
       "array(['Commercial Exempt', 'Mansions With Commercial Usage',\n",
       "       'Service Building',\n",
       "       'Store Bldg - Multi Story (Store & Apt, Store & O',\n",
       "       'Strip Shopping Center', 'Svs Station w Conv Store', 'Tavern',\n",
       "       'AP 1', 'Day Care Center', 'Duplex Old/Style',\n",
       "       'Office Building - Multi Story ( Ofc & Apt)', 'Pole Building',\n",
       "       'Residence With Commercial Usage', 'Used Car Sale',\n",
       "       'Warehouse Building - 1 Story', 'Apartment: 48: 1-Br  Units',\n",
       "       'Beer Depot & Liquor Store',\n",
       "       'Store Building - Single tenant, 1 story', 'Fast Food Operation',\n",
       "       'Multi Story Warehouse', 'Sit Down Restaurant', 'Triplex',\n",
       "       'Rm or Rooming House', 'Apartment: 32: 2-Br  Units',\n",
       "       'Laundry Pick-up Station', 'Auto & Auto Body Repair',\n",
       "       'Custard Stand, Drive-In', 'Muffler Shop', 'Salvage Yard',\n",
       "       'Super Market', 'Office Building - 1 Story',\n",
       "       'Office Building - Class A', 'Svc Station w Conv and Carwash',\n",
       "       'Apartment: 37: 1-Br ,1: 2-Br  Units', 'Bank, Savings & Loan',\n",
       "       'Medical Clinic', 'Pharmacy', 'Tire Dealer', 'Mansion',\n",
       "       'Duplex O/S', 'Church', 'Cottage',\n",
       "       'Store Building - Multiple Tenants', 'Laundromat',\n",
       "       'Rooming House - 8 or more units',\n",
       "       'Apartment: 33: 1-Br ,6: 2-Br  Units', 'Office Building - Class C',\n",
       "       'Trucking Terminal', 'Auto Rental Agency',\n",
       "       'Car Dealer, Truck Dealer', 'Office Building - Class B',\n",
       "       'Cape Cod', 'APARTMENT', 'Apartment: 40: 3-Br  Units',\n",
       "       'Apartment: 20: 2-Br ,2: 3-Br  Units', 'Apartment: 1: 2-Br  Units',\n",
       "       'Nursing Home', 'HI-RISE', 'Apartment: 51: 1-Br  Units',\n",
       "       'Apartment: 60: 2-Br  Units',\n",
       "       'Apartment: 18: 1-Br ,7: 2-Br  Units', 'Car Wash', 'Ranch',\n",
       "       'Apartment: 48: 1-Br ,39: 2-Br  Units',\n",
       "       'Apartment: 26: 2-Br  Units',\n",
       "       'Apartment: 30: 2-Br ,6: 3-Br  Units',\n",
       "       'Apartment: 18: 1-Br ,20: 2-Br ,8: 3-Br  Units',\n",
       "       'Apartment:  Units', 'Office Warehouse Park - multi tenants',\n",
       "       'Apartment: 81: 1-Br  Units',\n",
       "       'Apartment: 12: 1-Br ,24: 2-Br  Units', 'Funeral Home',\n",
       "       'Lumber Yards', 'Parking Lot',\n",
       "       'Apartment: 24: 2-Br ,3: 3-Br  Units',\n",
       "       'Apartment: 8: 1-Br ,9: 2-Br ,6: 3-Br ,1: 3-Br  U',\n",
       "       'Apartment: 10: 1-Br ,8: 2-Br ,3: 3-Br  Units', 'Quick Oil Change',\n",
       "       'Apartment: 1: 1-Br ,24: 2-Br ,5: 2-Br  Units',\n",
       "       'Apartment: 15: 2-Br ,21: 3-Br  Units', 'Mini Warehouse',\n",
       "       'Apartment: 36: 1-Br ,6: 2-Br  Units', 'Neighborhood Center',\n",
       "       'Apartment: 12: 2-Br ,12: 3-Br  Units',\n",
       "       'Apartment: 12: 1-Br  Units',\n",
       "       'Apartment: 48: 1-Br ,24: 2-Br  Units',\n",
       "       'Apartment: 18: 1-Br ,6: 1-Br ,12: 2-Br  Units',\n",
       "       'Parking Garage, Parking Ramp', 'Apartment: 24: 1-Br  Units',\n",
       "       'Theater', 'Apartment: 5: 1-Br ,17: 2-Br ,2: 3-Br  Units',\n",
       "       'Apartment: 7: 1-Br  Units',\n",
       "       'Apartment: 21: 1-Br ,3: 1-Br ,15: 2-Br ,6: 2-Br ',\n",
       "       'Apartment: 88: 1-Br ,6: 2-Br  Units',\n",
       "       'Apartment: 24: 2-Br  Units', 'Apartment: 1: 1-Br  Units',\n",
       "       'Commercial Land',\n",
       "       'Apartment: 8: 1-Br ,12: 1-Br ,10: 2-Br ,2: 3-Br ',\n",
       "       'Apartment: 10: 1-Br ,11: 2-Br  Units',\n",
       "       'Apartment: 18: 1-Br ,12: 2-Br  Units',\n",
       "       'Apartment: 26: 1-Br ,6: 2-Br  Units', 'Motel',\n",
       "       'Apartment: 10: 1-Br  Units', 'Apartment: 6: 1-Br  Units',\n",
       "       'Licensed Res Care Facility,  Halfway House, etc.',\n",
       "       'Post Office, Social Security Building',\n",
       "       'Apartment: 148: 1-Br ,1: 2-Br  Units', 'MIXED STYLES',\n",
       "       'Apartment: 30: 1-Br  Units',\n",
       "       'Apartment: 33: 1-Br ,3: 2-Br  Units',\n",
       "       'Apartment: 45: 1-Br ,3: 2-Br  Units',\n",
       "       'Single Tenant Multi Story Retail', 'Duplex - Cottage',\n",
       "       'Office Building - Class D',\n",
       "       'Apartment: 12: 2-Br ,6: 2-Br ,6: 2-Br  Units',\n",
       "       'Apartment: 4: 1-Br ,1: 2-Br ,10: 1-Br ,12: 1-Br ',\n",
       "       'Apartment: 50: 2-Br ,22: 3-Br  Units',\n",
       "       'Apartment: 56: 1-Br ,42: 1-Br ,24: 1-Br ,40: 2-B',\n",
       "       'Apartment: 61: 1-Br ,12: 2-Br ,1: 3-Br  Units',\n",
       "       'Svc Station w Conv, Retail, Restaurant and Carwa',\n",
       "       'Apartment: 79: 1-Br ,40: 1-Br ,43: 2-Br  Units',\n",
       "       'Residence Old/Style', 'Apartment: 2: 1-Br ,23: 2-Br  Units',\n",
       "       'Hotel Extended Stay', 'Apartment: 9: 3-Br ,31: 3-Br  Units',\n",
       "       'Apartment: 30: 1-Br ,15: 2-Br  Units',\n",
       "       'Apartment: 7: 2-Br ,17: 3-Br  Units',\n",
       "       'Sport, Health & Recreational Properties', 'Colonial',\n",
       "       'Apartment: 23: 1-Br ,6: 2-Br  Units', 'School',\n",
       "       'Apartment: 17: 1-Br ,1: 1-Br ,31: 2-Br ,6: 3-Br ',\n",
       "       'Apartment: 8: 2-Br  Units', 'Apartment: 25: 1-Br ,5: 2-Br  Units',\n",
       "       'Apartment: 33: 1-Br ,15: 2-Br  Units',\n",
       "       'Apartment: 7: 1-Br ,10: 2-Br  Units',\n",
       "       'Apartment: 2: 1-Br ,3: 1-Br ,6: 2-Br ,18: 2-Br ,',\n",
       "       'Apartment: 28: 1-Br ,2: 2-Br  Units',\n",
       "       'Special - to use this code see supv.',\n",
       "       'Apartment: 8: 1-Br ,24: 2-Br  Units',\n",
       "       'Apartment: 13: 2-Br ,57: 2-Br ,2: 3-Br  Units',\n",
       "       'Apartment: 13: 1-Br  Units', 'Apartment: 40: 2-Br  Units',\n",
       "       'AP1 (Conventional Apt with 4-6 Units)', 'Duplex N/S',\n",
       "       'Residence O/S', 'Milwaukee Bungalow', 'Dplx Bungalow', 'TRIPLEX',\n",
       "       'TOWN HOUSE', 'Townhouse', 'Tudor', 'TOWNHOUSE', '303',\n",
       "       'WAREHOUSE', 'Apartment: 18: 1-Br  Units',\n",
       "       'Apartment: 41: 1-Br ,16: 1-Br ,32: 1-Br ,16: 1-B', 'townhse',\n",
       "       'Apartment: 6: 1-Br ,1: 2-Br  Units',\n",
       "       'Apartment: 168: 2-Br  Units', 'Apartments - 8 or more units',\n",
       "       'hi rise', '150700', 'Bi-Level', 'Split Level', '810',\n",
       "       'Bowling Alley', 'Duplex-Cottage', 'BILEVEL',\n",
       "       'Apartment: 6: 3-Br  Units', 'HI RISE', 'DUPLEX', 'hi-rise',\n",
       "       'Apartment: 8: 1-Br  Units', 'townhouse',\n",
       "       'Apartment: 138: 1-Br ,12: 2-Br  Units',\n",
       "       'Apartment: 3: 1-Br ,1: 2-Br  Units',\n",
       "       'Apartment: 18: 1-Br ,6: 2-Br  Units',\n",
       "       'Apartment: 8: 1-Br ,6: 1-Br ,2: 2-Br  Units', 'UNKWN',\n",
       "       'Apartment  - Mix', \"63,500 for '09. UNF.\", 'Warehouse',\n",
       "       'Apartment: 22: 1-Br  Units', 'Apartment: 16: 1-Br  Units',\n",
       "       'Apartment: 11: 1-Br ,1: 1-Br ,10: 2-Br  Units', 'Apartment',\n",
       "       'RANCH', 'apartment', 'Bulk Storage', 'HIGH RISE',\n",
       "       'Apartment: 4: 2-Br  Units', 'Apartment: 4: 1-Br  Units',\n",
       "       'Apartment: 12: 2-Br  Units', 'TRILEVEL',\n",
       "       'Apartment: 12: 1-Br ,14: 2-Br  Units',\n",
       "       'Apartment: 7: 1-Br ,1: 2-Br  Units',\n",
       "       'Apartment: 3: 2-Br ,15: 1-Br  Units', 'Mixed Styles',\n",
       "       'Apartment: 12: 1-Br ,12: 1-Br ,12: 2-Br  Units',\n",
       "       'Apartment: 4: 1-Br ,14: 2-Br  Units', 'Apartment-Mix',\n",
       "       'Apartment: 2: 2-Br  Units', 'Apartment: 3: 1-Br ,2: 2-Br  Units',\n",
       "       'Svc Station wo Conv Store',\n",
       "       'Apartment: 18: 1-Br ,48: 2-Br  Units',\n",
       "       'Apartment: 4: 1-Br ,1: 2-Br  Units', 'DUPLEX/OTHER', '6242010',\n",
       "       'Apartment: 2: 1-Br ,4: 2-Br  Units',\n",
       "       'Apartment: 2: 1-Br ,2: 2-Br  Units',\n",
       "       'Apartment: 4: 1-Br ,8: 2-Br  Units', 'BI/TRI',\n",
       "       'Apartment: 13: 2-Br  Units', 'HIRISE',\n",
       "       'Apartment: 4: 3-Br  Units', 'Garden Style',\n",
       "       'Apartment: 3: 2-Br ,1: 2-Br  Units',\n",
       "       'Apartment: 6: 1-Br ,6: 2-Br ,1: 4-Br  Units', 'MIXED ',\n",
       "       'Apartment: 5: 1-Br ,6: 3-Br  Units',\n",
       "       'Apartment: 24: 3-Br ,5: 1-Br ,2: 2-Br  Units',\n",
       "       'Apartment: 6: 2-Br  Units', 'COLONIAL',\n",
       "       'Apartment: 6: 1-Br ,6: 2-Br  Units', 'Apartment: 5: 2-Br  Units',\n",
       "       'Hi-Rise', 'Apartment: 10: 1-Br ,4: 2-Br  Units',\n",
       "       'Apartment: 1: 1-Br ,3: 2-Br ,2: 3-Br  Units',\n",
       "       'Apartment: 4: 1-Br ,2: 2-Br  Units', 'MOTEL STYLE', 'Supper Club',\n",
       "       'Duplex', 'Apartment: 90: Efficency  Units',\n",
       "       'Discount Department Store', 'Apartment: 16: 2-Br  Units',\n",
       "       'Apartment: 5: 1-Br  Units', 'Garden Style ',\n",
       "       'Apartment: 8: 1-Br ,1: 3-Br  Units',\n",
       "       'Apartment: 2: 2-Br ,2: 3-Br  Units', 'Apartment: 20: 2-Br  Units',\n",
       "       'Apartment: 8: 2-Br ,8: 2-Br  Units', 'Mobile Home Parks',\n",
       "       'ROW HOUSE', 'Apartment: 20: 1-Br  Units',\n",
       "       'Apartment: 16: 2-Br ,2: 3-Br  Units',\n",
       "       'Apartment: 2: 1-Br ,2: 2-Br ,1: 2-Br ,1: 3-Br  U',\n",
       "       'Apartment: 4: 1-Br ,12: 2-Br  Units',\n",
       "       'Apartment: 2: 1-Br ,1: 2-Br ,1: 3-Br  Units',\n",
       "       'Apartment: 6: 1-Br ,2: 2-Br  Units',\n",
       "       'Apartment: 4: 1-Br ,4: 2-Br  Units', 'Apartment: 2: 1-Br  Units',\n",
       "       'Apartment: 1: 1-Br ,3: 2-Br  Units', 'APARMENT', 'APARTMENMT',\n",
       "       'Apartment: 14: 2-Br  Units', 'Apartment: 8: 1-Br ,1: 2-Br  Units',\n",
       "       'Apartment: 3: 1-Br ,6: 2-Br  Units', 'SPLIT LEVEL',\n",
       "       'Apartment: 12: 1-Br ,12: 1-Br ,8: 2-Br ,20: 2-Br',\n",
       "       'Apartment: 2: 1-Br ,3: 1-Br ,6: 1-Br ,18: 2-Br ,',\n",
       "       'Apartment: 7: 1-Br ,7: 1-Br ,7: 1-Br ,7: 1-Br ,1',\n",
       "       'Apartment: 1: 2-Br ,1: 2-Br  Units',\n",
       "       'Apartment: 3: 2-Br ,1: 3-Br  Units', 'Hi Rise',\n",
       "       'Apartment: 17: 1-Br ,11: 2-Br  Units',\n",
       "       'Apartment: 3: 2-Br ,1: 1-Br  Units',\n",
       "       'Apartment: 7: 2-Br ,1: 1-Br  Units', 'Apartment: 3: 1-Br  Units',\n",
       "       'Apartment: 9: 3-Br  Units',\n",
       "       'Apartment: 1: 1-Br ,1: 2-Br ,1: 3-Br  Units',\n",
       "       'Apartment: 1: 2-Br ,2: 3-Br ,1: 1-Br  Units',\n",
       "       'Apartment: 185: 1-Br ,1: 2-Br  Units', ' ',\n",
       "       'Apartment: 20: 1-Br ,42: 1-Br ,13: 2-Br ,2: 3-Br',\n",
       "       'Apartment: 12: 2-Br ,12: 2-Br ,12: 2-Br  Units',\n",
       "       'Apartment: 36: 1-Br ,6: 2-Br ,24: 2-Br ,24: 2-Br',\n",
       "       'Apartment: 6: 2-Br ,102: 2-Br  Units', 'MIXED',\n",
       "       'Apartment: 2: 1-Br ,3: 2-Br  Units',\n",
       "       'Svc Station w Conv and Restaurant', 'Apartment ',\n",
       "       'Apartment: 5: 2-Br ,5: 3-Br  Units',\n",
       "       'Apartment: 12: 1-Br ,8: 2-Br  Units',\n",
       "       'Apartment: 28: 1-Br ,1: 2-Br  Units',\n",
       "       'Apartment: 2: 2-Br ,4: 1-Br  Units', 'Hotel Limited Service',\n",
       "       'Apartment: 6: 2-Br ,4: 3-Br  Units',\n",
       "       'Apartment: 3: 1-Br ,9: 2-Br  Units', 'OLD STYLE DUPLEX',\n",
       "       'Apartment: 13: 3-Br  Units', 'Apartment: 2: 2-Br ,1: 3-Br  Units',\n",
       "       'Apartment: 2: 2-Br ,1: 2-Br ,1: 2-Br  Units',\n",
       "       'Apartment: 32: 1-Br ,4: 2-Br  Units',\n",
       "       'Apartment: 4: 2-Br ,4: 2-Br  Units',\n",
       "       'Apartment: 36: 1-Br ,3: 2-Br ,3: 2-Br  Units',\n",
       "       'Apartment: 8: 2-Br ,39: 2-Br  Units',\n",
       "       'Apartment: 1: 1-Br ,1: 2-Br  Units',\n",
       "       'Super Regional Shopping Center',\n",
       "       'Apartment: 1: 2-Br ,1: 3-Br ,1: 1-Br ,3: 2-Br  U',\n",
       "       'Apartment: 27: 1-Br ,3: 2-Br  Units',\n",
       "       'Apartment: 2: 2-Br ,2: 2-Br  Units', 'Hotel Select Service',\n",
       "       'OTHER', 'Apartment: 1: 2-Br ,3: 1-Br  Units',\n",
       "       'Apartment: 1: 1-Br ,4: 2-Br  Units',\n",
       "       'Apartment: 32: 1-Br ,32: 2-Br ,32: 2-Br ,13: 3-B',\n",
       "       'Apartment: 26: 1-Br  Units', 'Apartment: 2: 1-Br ,6: 2-Br  Units',\n",
       "       'Apartment: 10: 2-Br  Units', 'Apartment: 2: 1-Br ,7: 3-Br  Units',\n",
       "       'Apartment: 1: 1-Br ,1: 2-Br ,1: 2-Br ,1: 2-Br  U',\n",
       "       'Apartment: 19: 1-Br ,2: 2-Br  Units',\n",
       "       'Apartment: 18: 1-Br ,4: 2-Br  Units',\n",
       "       'Apartment: 24: 1-Br ,8: 2-Br  Units',\n",
       "       'Apartment: 4: 1-Br ,9: 1-Br ,36: 2-Br ,21: 3-Br ',\n",
       "       'Apartment: 3: 1-Br ,1: 2-Br ,1: 2-Br  Units',\n",
       "       'Apartment: 9: 1-Br ,63: 2-Br  Units',\n",
       "       'Apartment: 35: 1-Br ,2: 2-Br  Units', '1',\n",
       "       'Apartment: 7: 2-Br  Units',\n",
       "       'Apartment: 3: 1-Br ,3: 2-Br ,1: 3-Br  Units',\n",
       "       'Apartment: 3: 1-Br ,1: 3-Br  Units',\n",
       "       'Apartment: 16: 2-Br ,16: 3-Br ,42: 3-Br  Units',\n",
       "       'Apartment: 4: 1-Br ,3: 1-Br ,1: 2-Br ,2: 2-Br  U',\n",
       "       'Apartment: 2: 1-Br ,4: 2-Br ,1: 3-Br  Units',\n",
       "       'Apartment: 8: 1-Br ,8: 2-Br  Units',\n",
       "       'Apartment: 38: 1-Br ,3: 1-Br ,10: 2-Br ,7: 2-Br ',\n",
       "       'Apartment: 1: 1-Br ,12: 2-Br  Units',\n",
       "       'Apartment: 11: 2-Br ,1: 3-Br  Units', '`APARTMENT',\n",
       "       'Apartment: 1: 2-Br ,1: 1-Br ,1: 1-Br ,1: 3-Br  U',\n",
       "       'Apartment: 1: 1-Br ,1: 1-Br ,2: 2-Br ,1: 2-Br  U',\n",
       "       'Apartment: 2: 1-Br ,1: 2-Br  Units',\n",
       "       'Apartment: 1: 1-Br ,2: 2-Br  Units', 'Billboard',\n",
       "       'Apartment: 2: 1-Br ,24: 2-Br ,8: 3-Br  Units',\n",
       "       'Apartment: 6: 1-Br ,24: 2-Br ,7: 3-Br ,6: 3-Br ,',\n",
       "       'Apartment: 9: 2-Br  Units', 'Apartment: 3: 2-Br  Units',\n",
       "       'Apartment: 1: 2-Br ,3: 2-Br  Units',\n",
       "       'Apartment: 3: 1-Br ,1: 4-Br  Units',\n",
       "       'Apartment: 2: 2-Br ,1: 2-Br ,1: 1-Br  Units',\n",
       "       'Apartment: 1: 2-Br ,1: 2-Br ,1: 3-Br ,1: 3-Br  U',\n",
       "       'Apartment: 5: 1-Br ,1: 2-Br  Units',\n",
       "       'Apartment: 4: 1-Br ,5: 2-Br  Units', 'Town House',\n",
       "       'Apartment: 1: 2-Br ,1: 2-Br ,1: 2-Br ,1: 2-Br  U', 'BI-Tri',\n",
       "       'Apartment: 1: 1-Br ,1: 1-Br ,1: 2-Br ,1: 2-Br  U',\n",
       "       'Apartment: 1: 2-Br ,8: 3-Br  Units',\n",
       "       'Apartment: 3: 1-Br ,10: 1-Br  Units',\n",
       "       'Apartment: 4: 2-Br ,2: 3-Br  Units',\n",
       "       'Apartment: 2: 2-Br ,2: 1-Br  Units', 'Apartment: 32: 3-Br  Units',\n",
       "       'Apartment: 2: 2-Br ,1: 1-Br ,1: 3-Br  Units',\n",
       "       'Apartment: 1: 3-Br ,1: 3-Br ,1: 3-Br ,1: 3-Br ,1',\n",
       "       'Apartment: 5: 1-Br ,6: 2-Br  Units',\n",
       "       'Apartment: 6: 1-Br ,4: 2-Br  Units',\n",
       "       'Apartment: 18: 2-Br ,1: 3-Br  Units',\n",
       "       'Apartment: 6: 3-Br ,1: 2-Br  Units',\n",
       "       'Apartment: 1: 1-Br ,1: 1-Br ,1: 1-Br ,1: 1-Br  U',\n",
       "       'Apartment: 6: 1-Br ,7: 2-Br  Units',\n",
       "       'Apartment: 4: 2-Br ,1: 2-Br ,2: 2-Br ,1: 2-Br  U',\n",
       "       'Apartment: 8: 2-Br ,4: 2-Br  Units',\n",
       "       'Apartment: 1: 2-Br ,1: 1-Br ,1: 1-Br ,1: 2-Br ,1',\n",
       "       'Apartment: 24: 1-Br ,12: 2-Br  Units', 'Apartment- Mix',\n",
       "       'Apartment: 3: 1-Br ,3: 2-Br  Units',\n",
       "       'Apartment: 16: 2-Br ,2: 2-Br ,1: 2-Br ,8: 2-Br ,',\n",
       "       'Apartment: 8: 2-Br ,4: 3-Br ,8: 2-Br ,4: 3-Br  U',\n",
       "       'Apartment: 1: 2-Br ,2: 1-Br  Units',\n",
       "       'Apartment: 1: 2-Br ,6: 3-Br  Units',\n",
       "       'Apartment: 64: 1-Br ,4: 1-Br ,8: 3-Br ,62: 1-Br ',\n",
       "       'Svc Station w Conv, Carwash, and Restaurant', 'Condo Townhouse',\n",
       "       'Condo Ranch', 'Low Rise 1-3 Stories',\n",
       "       'AP2 (Conventional Apt with 7-11 Units)',\n",
       "       'AP3 (Conventional Apt with 12-20 Units)', 'Condo BI/TRI Level',\n",
       "       'Subsidized Apartments', 'Hotel - Limited Service',\n",
       "       'Store Bldg - Multi Story (Store & Apt, Store & Ofc',\n",
       "       'Townhouse Apartment', 'AP4 (Conv Apt with 21 or more Units)',\n",
       "       'Multiple Residential Bldgs', 'Condo Duplex',\n",
       "       'Mid RIse 4-12 Stories', 'R/M (Res. Multiple) or Rooming House',\n",
       "       'High Rise > 12 Stories', 'Contemporary', 'Residence O/S 2sty+',\n",
       "       'Res O/S A & 1/2', 'Res O/S 1 Story',\n",
       "       'Svc Station w Conv, Retail, Restaurant and Carwash',\n",
       "       'Res O/S 2sty +', 'Store Building - Multiple Tenants, 1 story',\n",
       "       'Mid Rise 4-12 Stories',\n",
       "       'R/M (Res. Multiple) or Rooming House - commercial'], dtype=object)"
      ]
     },
     "execution_count": 42,
     "metadata": {},
     "output_type": "execute_result"
    }
   ],
   "source": [
    "propiedades['style'].unique()"
   ]
  },
  {
   "cell_type": "code",
   "execution_count": 43,
   "metadata": {
    "colab": {
     "base_uri": "https://localhost:8080/"
    },
    "executionInfo": {
     "elapsed": 353,
     "status": "ok",
     "timestamp": 1716304200198,
     "user": {
      "displayName": "Juan Pablo campuzano",
      "userId": "18198759458590746786"
     },
     "user_tz": -120
    },
    "id": "lWw-coZM1961",
    "outputId": "94857b51-93ce-4d15-efc5-c0ae609e5bfe"
   },
   "outputs": [
    {
     "data": {
      "text/plain": [
       "style\n",
       "ranch                    13140\n",
       "cape cod                  8887\n",
       "apartment                 4603\n",
       "milwaukee bungalow        3667\n",
       "duplex o/s                3391\n",
       "residence o/s             3303\n",
       "colonial                  2731\n",
       "dplx bungalow             2662\n",
       "duplex n/s                2348\n",
       "mid rise 4-12 stories     1356\n",
       "Name: count, dtype: int64"
      ]
     },
     "execution_count": 43,
     "metadata": {},
     "output_type": "execute_result"
    }
   ],
   "source": [
    "propiedades['style'] = propiedades['style'].str.lower()\n",
    "propiedades['style'] = propiedades['style'].str.split(': | -').str[0].str.strip()\n",
    "propiedades['style'].value_counts().head(10)"
   ]
  },
  {
   "cell_type": "markdown",
   "metadata": {
    "id": "xXlY2pFU9e1d"
   },
   "source": [
    "Creado una nueva columna con datos mas limpios, quedandonos con la informacion especifica de estilo de propiedad necesaria para poder hacer graficos"
   ]
  },
  {
   "cell_type": "code",
   "execution_count": 44,
   "metadata": {
    "colab": {
     "base_uri": "https://localhost:8080/",
     "height": 894
    },
    "executionInfo": {
     "elapsed": 8,
     "status": "ok",
     "timestamp": 1716304200198,
     "user": {
      "displayName": "Juan Pablo campuzano",
      "userId": "18198759458590746786"
     },
     "user_tz": -120
    },
    "id": "YDNfcH6I_JNM",
    "outputId": "9c3d50cf-360a-4df3-aca8-728a414cf57e"
   },
   "outputs": [
    {
     "data": {
      "text/html": [
       "<div>\n",
       "<style scoped>\n",
       "    .dataframe tbody tr th:only-of-type {\n",
       "        vertical-align: middle;\n",
       "    }\n",
       "\n",
       "    .dataframe tbody tr th {\n",
       "        vertical-align: top;\n",
       "    }\n",
       "\n",
       "    .dataframe thead th {\n",
       "        text-align: right;\n",
       "    }\n",
       "</style>\n",
       "<table border=\"1\" class=\"dataframe\">\n",
       "  <thead>\n",
       "    <tr style=\"text-align: right;\">\n",
       "      <th></th>\n",
       "      <th>proptype</th>\n",
       "      <th>taxkey</th>\n",
       "      <th>address</th>\n",
       "      <th>district</th>\n",
       "      <th>nbhd</th>\n",
       "      <th>style</th>\n",
       "      <th>stories</th>\n",
       "      <th>year_built</th>\n",
       "      <th>rooms</th>\n",
       "      <th>finishedsqft</th>\n",
       "      <th>units</th>\n",
       "      <th>bdrms</th>\n",
       "      <th>fbath</th>\n",
       "      <th>hbath</th>\n",
       "      <th>lotsize</th>\n",
       "      <th>sale_date</th>\n",
       "      <th>sale_price</th>\n",
       "    </tr>\n",
       "  </thead>\n",
       "  <tbody>\n",
       "    <tr>\n",
       "      <th>34523</th>\n",
       "      <td>Manufacturing</td>\n",
       "      <td>1.001100e+07</td>\n",
       "      <td>9400 N 124TH ST</td>\n",
       "      <td>9.0</td>\n",
       "      <td>6300.0</td>\n",
       "      <td>pole building</td>\n",
       "      <td>1.0</td>\n",
       "      <td>2005.0</td>\n",
       "      <td>NaN</td>\n",
       "      <td>18000.0</td>\n",
       "      <td>1.0</td>\n",
       "      <td>NaN</td>\n",
       "      <td>NaN</td>\n",
       "      <td>NaN</td>\n",
       "      <td>0.0</td>\n",
       "      <td>2019-03-11</td>\n",
       "      <td>675000.0</td>\n",
       "    </tr>\n",
       "    <tr>\n",
       "      <th>34524</th>\n",
       "      <td>Commercial</td>\n",
       "      <td>3.002311e+07</td>\n",
       "      <td>10545 W DONGES CT</td>\n",
       "      <td>9.0</td>\n",
       "      <td>6202.0</td>\n",
       "      <td>warehouse building</td>\n",
       "      <td>1.0</td>\n",
       "      <td>1973.0</td>\n",
       "      <td>NaN</td>\n",
       "      <td>27940.0</td>\n",
       "      <td>5.0</td>\n",
       "      <td>NaN</td>\n",
       "      <td>NaN</td>\n",
       "      <td>NaN</td>\n",
       "      <td>100188.0</td>\n",
       "      <td>2019-09-13</td>\n",
       "      <td>1300000.0</td>\n",
       "    </tr>\n",
       "    <tr>\n",
       "      <th>34547</th>\n",
       "      <td>Commercial</td>\n",
       "      <td>3.300151e+08</td>\n",
       "      <td>8530-8564 W BROWN DEER RD</td>\n",
       "      <td>9.0</td>\n",
       "      <td>6452.0</td>\n",
       "      <td>strip shopping center</td>\n",
       "      <td>1.0</td>\n",
       "      <td>1984.0</td>\n",
       "      <td>NaN</td>\n",
       "      <td>95932.0</td>\n",
       "      <td>13.0</td>\n",
       "      <td>NaN</td>\n",
       "      <td>NaN</td>\n",
       "      <td>NaN</td>\n",
       "      <td>0.0</td>\n",
       "      <td>2019-04-22</td>\n",
       "      <td>725000.0</td>\n",
       "    </tr>\n",
       "    <tr>\n",
       "      <th>34627</th>\n",
       "      <td>Commercial</td>\n",
       "      <td>4.299981e+08</td>\n",
       "      <td>8730 N 91ST ST</td>\n",
       "      <td>9.0</td>\n",
       "      <td>6421.0</td>\n",
       "      <td>car dealer, truck dealer</td>\n",
       "      <td>1.0</td>\n",
       "      <td>1992.0</td>\n",
       "      <td>NaN</td>\n",
       "      <td>14165.0</td>\n",
       "      <td>2.0</td>\n",
       "      <td>NaN</td>\n",
       "      <td>NaN</td>\n",
       "      <td>NaN</td>\n",
       "      <td>187308.0</td>\n",
       "      <td>2019-10-03</td>\n",
       "      <td>850000.0</td>\n",
       "    </tr>\n",
       "    <tr>\n",
       "      <th>34652</th>\n",
       "      <td>Commercial</td>\n",
       "      <td>4.308710e+08</td>\n",
       "      <td>8155-8173 W BROWN DEER RD</td>\n",
       "      <td>9.0</td>\n",
       "      <td>6452.0</td>\n",
       "      <td>neighborhood center</td>\n",
       "      <td>1.0</td>\n",
       "      <td>1975.0</td>\n",
       "      <td>NaN</td>\n",
       "      <td>141851.0</td>\n",
       "      <td>22.0</td>\n",
       "      <td>NaN</td>\n",
       "      <td>NaN</td>\n",
       "      <td>NaN</td>\n",
       "      <td>0.0</td>\n",
       "      <td>2019-01-09</td>\n",
       "      <td>1150000.0</td>\n",
       "    </tr>\n",
       "    <tr>\n",
       "      <th>...</th>\n",
       "      <td>...</td>\n",
       "      <td>...</td>\n",
       "      <td>...</td>\n",
       "      <td>...</td>\n",
       "      <td>...</td>\n",
       "      <td>...</td>\n",
       "      <td>...</td>\n",
       "      <td>...</td>\n",
       "      <td>...</td>\n",
       "      <td>...</td>\n",
       "      <td>...</td>\n",
       "      <td>...</td>\n",
       "      <td>...</td>\n",
       "      <td>...</td>\n",
       "      <td>...</td>\n",
       "      <td>...</td>\n",
       "      <td>...</td>\n",
       "    </tr>\n",
       "    <tr>\n",
       "      <th>60642</th>\n",
       "      <td>Lg Apartment</td>\n",
       "      <td>6.680209e+09</td>\n",
       "      <td>3047 W IONA TRCE</td>\n",
       "      <td>13.0</td>\n",
       "      <td>6850.0</td>\n",
       "      <td>ap1 (conventional apt with 4-6 units)</td>\n",
       "      <td>2.0</td>\n",
       "      <td>1959.0</td>\n",
       "      <td>NaN</td>\n",
       "      <td>3258.0</td>\n",
       "      <td>4.0</td>\n",
       "      <td>NaN</td>\n",
       "      <td>0.0</td>\n",
       "      <td>0.0</td>\n",
       "      <td>8710</td>\n",
       "      <td>2022-07-01</td>\n",
       "      <td>357142.0</td>\n",
       "    </tr>\n",
       "    <tr>\n",
       "      <th>60643</th>\n",
       "      <td>Lg Apartment</td>\n",
       "      <td>6.680231e+09</td>\n",
       "      <td>3016 W IONA TRCE</td>\n",
       "      <td>13.0</td>\n",
       "      <td>6850.0</td>\n",
       "      <td>ap1 (conventional apt with 4-6 units)</td>\n",
       "      <td>2.0</td>\n",
       "      <td>1959.0</td>\n",
       "      <td>NaN</td>\n",
       "      <td>3696.0</td>\n",
       "      <td>4.0</td>\n",
       "      <td>NaN</td>\n",
       "      <td>0.0</td>\n",
       "      <td>0.0</td>\n",
       "      <td>8970</td>\n",
       "      <td>2022-08-31</td>\n",
       "      <td>325000.0</td>\n",
       "    </tr>\n",
       "    <tr>\n",
       "      <th>60644</th>\n",
       "      <td>Commercial</td>\n",
       "      <td>6.680702e+09</td>\n",
       "      <td>2730 W RAMSEY AV</td>\n",
       "      <td>13.0</td>\n",
       "      <td>6449.0</td>\n",
       "      <td>nursing home</td>\n",
       "      <td>1.0</td>\n",
       "      <td>1970.0</td>\n",
       "      <td>NaN</td>\n",
       "      <td>62714.0</td>\n",
       "      <td>81.0</td>\n",
       "      <td>NaN</td>\n",
       "      <td>0.0</td>\n",
       "      <td>0.0</td>\n",
       "      <td>142397</td>\n",
       "      <td>2022-10-13</td>\n",
       "      <td>3366096.0</td>\n",
       "    </tr>\n",
       "    <tr>\n",
       "      <th>60682</th>\n",
       "      <td>Residential</td>\n",
       "      <td>6.709944e+09</td>\n",
       "      <td>1806 W RAMSEY AV</td>\n",
       "      <td>13.0</td>\n",
       "      <td>4780.0</td>\n",
       "      <td>cape cod</td>\n",
       "      <td>1.5</td>\n",
       "      <td>1939.0</td>\n",
       "      <td>NaN</td>\n",
       "      <td>1900.0</td>\n",
       "      <td>1.0</td>\n",
       "      <td>NaN</td>\n",
       "      <td>1.0</td>\n",
       "      <td>1.0</td>\n",
       "      <td>21519</td>\n",
       "      <td>2022-06-23</td>\n",
       "      <td>310000.0</td>\n",
       "    </tr>\n",
       "    <tr>\n",
       "      <th>60721</th>\n",
       "      <td>Commercial</td>\n",
       "      <td>6.909847e+09</td>\n",
       "      <td>5954 S 27TH ST</td>\n",
       "      <td>13.0</td>\n",
       "      <td>6286.0</td>\n",
       "      <td>residence with commercial usage</td>\n",
       "      <td>1.5</td>\n",
       "      <td>1931.0</td>\n",
       "      <td>NaN</td>\n",
       "      <td>1500.0</td>\n",
       "      <td>3.0</td>\n",
       "      <td>NaN</td>\n",
       "      <td>0.0</td>\n",
       "      <td>0.0</td>\n",
       "      <td>16687</td>\n",
       "      <td>2022-12-08</td>\n",
       "      <td>170000.0</td>\n",
       "    </tr>\n",
       "  </tbody>\n",
       "</table>\n",
       "<p>1152 rows × 17 columns</p>\n",
       "</div>"
      ],
      "text/plain": [
       "            proptype        taxkey                    address district  \\\n",
       "34523  Manufacturing  1.001100e+07            9400 N 124TH ST      9.0   \n",
       "34524     Commercial  3.002311e+07          10545 W DONGES CT      9.0   \n",
       "34547     Commercial  3.300151e+08  8530-8564 W BROWN DEER RD      9.0   \n",
       "34627     Commercial  4.299981e+08             8730 N 91ST ST      9.0   \n",
       "34652     Commercial  4.308710e+08  8155-8173 W BROWN DEER RD      9.0   \n",
       "...              ...           ...                        ...      ...   \n",
       "60642   Lg Apartment  6.680209e+09           3047 W IONA TRCE     13.0   \n",
       "60643   Lg Apartment  6.680231e+09           3016 W IONA TRCE     13.0   \n",
       "60644     Commercial  6.680702e+09           2730 W RAMSEY AV     13.0   \n",
       "60682    Residential  6.709944e+09           1806 W RAMSEY AV     13.0   \n",
       "60721     Commercial  6.909847e+09             5954 S 27TH ST     13.0   \n",
       "\n",
       "         nbhd                                  style stories  year_built  \\\n",
       "34523  6300.0                          pole building     1.0      2005.0   \n",
       "34524  6202.0                     warehouse building     1.0      1973.0   \n",
       "34547  6452.0                  strip shopping center     1.0      1984.0   \n",
       "34627  6421.0               car dealer, truck dealer     1.0      1992.0   \n",
       "34652  6452.0                    neighborhood center     1.0      1975.0   \n",
       "...       ...                                    ...     ...         ...   \n",
       "60642  6850.0  ap1 (conventional apt with 4-6 units)     2.0      1959.0   \n",
       "60643  6850.0  ap1 (conventional apt with 4-6 units)     2.0      1959.0   \n",
       "60644  6449.0                           nursing home     1.0      1970.0   \n",
       "60682  4780.0                               cape cod     1.5      1939.0   \n",
       "60721  6286.0        residence with commercial usage     1.5      1931.0   \n",
       "\n",
       "      rooms  finishedsqft units bdrms fbath hbath   lotsize  sale_date  \\\n",
       "34523   NaN       18000.0   1.0   NaN   NaN   NaN       0.0 2019-03-11   \n",
       "34524   NaN       27940.0   5.0   NaN   NaN   NaN  100188.0 2019-09-13   \n",
       "34547   NaN       95932.0  13.0   NaN   NaN   NaN       0.0 2019-04-22   \n",
       "34627   NaN       14165.0   2.0   NaN   NaN   NaN  187308.0 2019-10-03   \n",
       "34652   NaN      141851.0  22.0   NaN   NaN   NaN       0.0 2019-01-09   \n",
       "...     ...           ...   ...   ...   ...   ...       ...        ...   \n",
       "60642   NaN        3258.0   4.0   NaN   0.0   0.0      8710 2022-07-01   \n",
       "60643   NaN        3696.0   4.0   NaN   0.0   0.0      8970 2022-08-31   \n",
       "60644   NaN       62714.0  81.0   NaN   0.0   0.0    142397 2022-10-13   \n",
       "60682   NaN        1900.0   1.0   NaN   1.0   1.0     21519 2022-06-23   \n",
       "60721   NaN        1500.0   3.0   NaN   0.0   0.0     16687 2022-12-08   \n",
       "\n",
       "       sale_price  \n",
       "34523    675000.0  \n",
       "34524   1300000.0  \n",
       "34547    725000.0  \n",
       "34627    850000.0  \n",
       "34652   1150000.0  \n",
       "...           ...  \n",
       "60642    357142.0  \n",
       "60643    325000.0  \n",
       "60644   3366096.0  \n",
       "60682    310000.0  \n",
       "60721    170000.0  \n",
       "\n",
       "[1152 rows x 17 columns]"
      ]
     },
     "execution_count": 44,
     "metadata": {},
     "output_type": "execute_result"
    }
   ],
   "source": [
    "propiedades[propiedades['rooms'].isnull()]"
   ]
  },
  {
   "cell_type": "code",
   "execution_count": 45,
   "metadata": {},
   "outputs": [],
   "source": [
    "upper_limit = np.percentile(propiedades['sale_price'], 95)\n",
    "lower_limit = np.percentile(propiedades['sale_price'], 5)\n",
    "\n",
    "propiedades['sale_price'] = np.where(propiedades['sale_price'] > upper_limit, upper_limit,\n",
    "                                            np.where(propiedades['sale_price'] < lower_limit, lower_limit,\n",
    "                                                     propiedades['sale_price']))\n"
   ]
  },
  {
   "cell_type": "code",
   "execution_count": 46,
   "metadata": {},
   "outputs": [],
   "source": [
    "propiedades.dtypes\n",
    "propiedades['lotsize'] =propiedades['lotsize'].astype('float64')"
   ]
  },
  {
   "cell_type": "code",
   "execution_count": 47,
   "metadata": {},
   "outputs": [],
   "source": [
    "col_otliers_clean = [ 'finishedsqft', 'lotsize',]\n",
    "for col in col_otliers_clean:\n",
    "    # Define percentiles for capping\n",
    "    upper_limit = np.percentile(propiedades[col], 95)\n",
    "    lower_limit = np.percentile(propiedades[col], 5)\n",
    "\n",
    "    # Cap outliers\n",
    "    propiedades[col] = np.where(propiedades[col] > upper_limit, upper_limit,\n",
    "                                            np.where(propiedades[col] < lower_limit, lower_limit,\n",
    "                                                     propiedades[col]))\n"
   ]
  },
  {
   "cell_type": "code",
   "execution_count": 48,
   "metadata": {},
   "outputs": [],
   "source": [
    "columns_to_impute = ['nbhd', 'rooms', 'bdrms', 'fbath', 'hbath', 'stories']\n",
    "\n",
    "\n",
    "propiedades[columns_to_impute] = propiedades[columns_to_impute].astype(float)\n",
    "\n",
    "propiedades.loc[:, columns_to_impute] = propiedades[columns_to_impute].fillna(0)\n",
    "\n",
    "\n",
    "propiedades[columns_to_impute] = propiedades[columns_to_impute].astype(int)"
   ]
  },
  {
   "cell_type": "code",
   "execution_count": 49,
   "metadata": {},
   "outputs": [],
   "source": [
    "propiedades.head()\n",
    "propiedades.to_csv('propiedades_clean.csv', index=False)"
   ]
  },
  {
   "cell_type": "code",
   "execution_count": 50,
   "metadata": {},
   "outputs": [
    {
     "data": {
      "text/plain": [
       "proptype        0\n",
       "taxkey          0\n",
       "address         0\n",
       "district        0\n",
       "nbhd            0\n",
       "style           0\n",
       "stories         0\n",
       "year_built      0\n",
       "rooms           0\n",
       "finishedsqft    0\n",
       "units           0\n",
       "bdrms           0\n",
       "fbath           0\n",
       "hbath           0\n",
       "lotsize         1\n",
       "sale_date       0\n",
       "sale_price      0\n",
       "dtype: int64"
      ]
     },
     "execution_count": 50,
     "metadata": {},
     "output_type": "execute_result"
    }
   ],
   "source": [
    "propiedades.isnull().sum()"
   ]
  },
  {
   "cell_type": "code",
   "execution_count": null,
   "metadata": {},
   "outputs": [],
   "source": []
  }
 ],
 "metadata": {
  "colab": {
   "provenance": [
    {
     "file_id": "1dXe5eEquyCTGDwP2NEolNM7x3_lZpbWQ",
     "timestamp": 1716305805527
    },
    {
     "file_id": "12IJT1cBUNvBh4_pB67Di8S1GpabZxnSM",
     "timestamp": 1716224599263
    },
    {
     "file_id": "1Bl8vfPsvng_BibIpJPu7G3793Y6tTmkT",
     "timestamp": 1716145719815
    },
    {
     "file_id": "1lNhbsWUQVaxSYqfa8pnmrkR_a2D6VMvK",
     "timestamp": 1711034252444
    }
   ]
  },
  "kernelspec": {
   "display_name": "Python 3 (ipykernel)",
   "language": "python",
   "name": "python3"
  },
  "language_info": {
   "codemirror_mode": {
    "name": "ipython",
    "version": 3
   },
   "file_extension": ".py",
   "mimetype": "text/x-python",
   "name": "python",
   "nbconvert_exporter": "python",
   "pygments_lexer": "ipython3",
   "version": "3.10.11"
  },
  "toc": {
   "base_numbering": 1,
   "nav_menu": {},
   "number_sections": true,
   "sideBar": true,
   "skip_h1_title": false,
   "title_cell": "Table of Contents",
   "title_sidebar": "Contents",
   "toc_cell": false,
   "toc_position": {},
   "toc_section_display": true,
   "toc_window_display": false
  },
  "varInspector": {
   "cols": {
    "lenName": 16,
    "lenType": 16,
    "lenVar": 40
   },
   "kernels_config": {
    "python": {
     "delete_cmd_postfix": "",
     "delete_cmd_prefix": "del ",
     "library": "var_list.py",
     "varRefreshCmd": "print(var_dic_list())"
    },
    "r": {
     "delete_cmd_postfix": ") ",
     "delete_cmd_prefix": "rm(",
     "library": "var_list.r",
     "varRefreshCmd": "cat(var_dic_list()) "
    }
   },
   "types_to_exclude": [
    "module",
    "function",
    "builtin_function_or_method",
    "instance",
    "_Feature"
   ],
   "window_display": false
  }
 },
 "nbformat": 4,
 "nbformat_minor": 4
}
